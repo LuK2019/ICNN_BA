{
 "cells": [
  {
   "cell_type": "code",
   "execution_count": 1,
   "metadata": {},
   "outputs": [],
   "source": [
    "%matplotlib qt\n",
    "\n",
    "import numpy as np \n",
    "import pandas as pd \n",
    "import matplotlib.pyplot as plt     \n",
    "import matplotlib\n",
    "import tensorflow as tf\n",
    "\n",
    "\n",
    "matplotlib.rcParams['figure.figsize'] = [20, 10]"
   ]
  },
  {
   "cell_type": "code",
   "execution_count": 2,
   "metadata": {},
   "outputs": [],
   "source": [
    "# Import Data Frame\n",
    "LOG_NUM = 2000\n",
    "PATH_TO_DF = r\"C:\\Users\\lukas\\OneDrive\\Universität\\Mathematik\\Bachelorarbeit\\log_dir\\log_{}\\SIMULATION_SUMMARY\\simulation_summary_log_{}.pkl\".format(LOG_NUM, LOG_NUM)\n",
    "PATH_TO_MODEL = r\"C:\\Users\\lukas\\OneDrive\\Universität\\Mathematik\\Bachelorarbeit\\log_dir\\log_{}\\WEIGHTS\\1\".format(\n",
    "    LOG_NUM\n",
    ")\n",
    "\n",
    "df = pd.read_pickle(PATH_TO_DF)\n"
   ]
  },
  {
   "cell_type": "code",
   "execution_count": 3,
   "metadata": {},
   "outputs": [
    {
     "name": "stdout",
     "output_type": "stream",
     "text": [
      "       agent_choice_of_x1  agent_final_cash_balance  \\\n",
      "49995                 0.0                 14.877057   \n",
      "49996                 0.0                 14.877057   \n",
      "49997                 0.0                 14.877057   \n",
      "49998                 0.0                 14.877057   \n",
      "49999                 0.0                 14.877057   \n",
      "\n",
      "       cumulative_liquidity_costs episode greedy  \\\n",
      "49995                   -0.122942   49995      0   \n",
      "49996                   -0.122942   49996      1   \n",
      "49997                   -0.122942   49997      0   \n",
      "49998                   -0.122942   49998      1   \n",
      "49999                   -0.122942   49999      1   \n",
      "\n",
      "                       initial_state  optimal_choice_of_x1  \\\n",
      "49995  [[5.0], [10.0], [1.0], [0.0]]                   2.5   \n",
      "49996  [[5.0], [10.0], [1.0], [0.0]]                   2.5   \n",
      "49997  [[5.0], [10.0], [1.0], [0.0]]                   2.5   \n",
      "49998  [[5.0], [10.0], [1.0], [0.0]]                   2.5   \n",
      "49999  [[5.0], [10.0], [1.0], [0.0]]                   2.5   \n",
      "\n",
      "       optimal_final_cash_balance  \n",
      "49995                   13.783457  \n",
      "49996                   14.738347  \n",
      "49997                   14.128223  \n",
      "49998                   15.959067  \n",
      "49999                   15.202744  \n",
      "<class 'pandas.core.frame.DataFrame'>\n",
      "RangeIndex: 50000 entries, 0 to 49999\n",
      "Data columns (total 8 columns):\n",
      "agent_choice_of_x1            50000 non-null float64\n",
      "agent_final_cash_balance      50000 non-null float64\n",
      "cumulative_liquidity_costs    50000 non-null float64\n",
      "episode                       50000 non-null object\n",
      "greedy                        50000 non-null object\n",
      "initial_state                 50000 non-null object\n",
      "optimal_choice_of_x1          50000 non-null float64\n",
      "optimal_final_cash_balance    50000 non-null float64\n",
      "dtypes: float64(5), object(3)\n",
      "memory usage: 3.1+ MB\n",
      "None\n"
     ]
    }
   ],
   "source": [
    "# Inspect the simulation results\n",
    "print(df.tail())\n",
    "print(df.info())"
   ]
  },
  {
   "cell_type": "code",
   "execution_count": 64,
   "metadata": {},
   "outputs": [],
   "source": [
    "# Plot results with greedy\n",
    "df.plot(x=\"episode\", y=\"optimal_final_cash_balance\", c=\"g\")\n",
    "df.plot(x=\"episode\", y=\"agent_final_cash_balance\", c=\"r\")\n",
    "plt.show()"
   ]
  },
  {
   "cell_type": "code",
   "execution_count": 53,
   "metadata": {},
   "outputs": [],
   "source": [
    "# Filter greedy results and plot again\n",
    "df_wo_greedy = df[df[\"greedy\"]==0]\n",
    "\n",
    "# Plot results wo greedy\n",
    "df_wo_greedy.plot(x=\"episode\", y=\"optimal_final_cash_balance\", c=\"g\")\n",
    "df_wo_greedy.plot(x=\"episode\", y=\"agent_final_cash_balance\", c=\"r\")\n",
    "plt.show()"
   ]
  },
  {
   "cell_type": "code",
   "execution_count": 61,
   "metadata": {},
   "outputs": [
    {
     "data": {
      "text/plain": [
       "<matplotlib.axes._subplots.AxesSubplot at 0x16c0959a518>"
      ]
     },
     "execution_count": 61,
     "metadata": {},
     "output_type": "execute_result"
    }
   ],
   "source": [
    "import seaborn as sns\n",
    "episodes = df_wo_greedy[\"episode\"]\n",
    "final_cash_balance_agent = df_wo_greedy[\"agent_final_cash_balance\"]\n",
    "\n",
    "ma_100 = final_cash_balance_agent.rolling(window=500).mean()\n",
    "df_plot=pd.DataFrame({\"episode\":episodes, \"ma\":ma_100})\n",
    "df_plot.plot(x=\"episode\",y=\"ma\")"
   ]
  },
  {
   "cell_type": "code",
   "execution_count": null,
   "metadata": {},
   "outputs": [],
   "source": [
    "# Agent choice with greedy \n",
    "\n",
    "df.plot(x=\"episode\", y=\"agent_choice_of_x1\")"
   ]
  },
  {
   "cell_type": "code",
   "execution_count": 31,
   "metadata": {},
   "outputs": [
    {
     "data": {
      "text/plain": [
       "<matplotlib.axes._subplots.AxesSubplot at 0x16c693294a8>"
      ]
     },
     "execution_count": 31,
     "metadata": {},
     "output_type": "execute_result"
    }
   ],
   "source": [
    "# Agent choice without greedy \n",
    "\n",
    "df_wo_greedy.plot(x=\"episode\", y=\"agent_choice_of_x1\")"
   ]
  },
  {
   "cell_type": "code",
   "execution_count": null,
   "metadata": {},
   "outputs": [],
   "source": [
    "df_wo_greedy.head()\n"
   ]
  },
  {
   "cell_type": "code",
   "execution_count": 7,
   "metadata": {},
   "outputs": [
    {
     "name": "stdout",
     "output_type": "stream",
     "text": [
      "Mean 14.830358005766556 and Std 1.3723239241257223 of agent_final_cash_balance\n",
      "Mean 14.93970035562314 and Std 0.7110972679749168 of optimal_final_cash_balance\n",
      "Mean 14.878246889305116 and Std 0.0 of agent_final_cash_balance from last 10000 observations\n",
      "Mean 14.940592666627321 and Std 0.7216728972588431 of optimal_final_cash_balance from last 10000 observations\n"
     ]
    }
   ],
   "source": [
    "df_wo_greedy.head()\n",
    "print(\"Mean {} and Std {} of agent_final_cash_balance\".format(np.mean(df_wo_greedy[\"agent_final_cash_balance\"]), np.std(df_wo_greedy[\"agent_final_cash_balance\"])))\n",
    "print(\"Mean {} and Std {} of optimal_final_cash_balance\".format(np.mean(df_wo_greedy[\"optimal_final_cash_balance\"]), np.std(df_wo_greedy[\"optimal_final_cash_balance\"])))\n",
    "\n",
    "print(\"Mean {} and Std {} of agent_final_cash_balance from last 10000 observations\".format(np.mean(df_wo_greedy[-10000:][\"agent_final_cash_balance\"]), np.std(df_wo_greedy[-1000:][\"agent_final_cash_balance\"])))\n",
    "print(\"Mean {} and Std {} of optimal_final_cash_balance from last 10000 observations\".format(np.mean(df_wo_greedy[-10000:][\"optimal_final_cash_balance\"]), np.std(df_wo_greedy[-1000:][\"optimal_final_cash_balance\"])))\n"
   ]
  },
  {
   "cell_type": "code",
   "execution_count": 57,
   "metadata": {},
   "outputs": [
    {
     "name": "stderr",
     "output_type": "stream",
     "text": [
      "C:\\Users\\lukas\\Anaconda3\\lib\\site-packages\\ipykernel_launcher.py:2: SettingWithCopyWarning: \n",
      "A value is trying to be set on a copy of a slice from a DataFrame.\n",
      "Try using .loc[row_indexer,col_indexer] = value instead\n",
      "\n",
      "See the caveats in the documentation: http://pandas.pydata.org/pandas-docs/stable/indexing.html#indexing-view-versus-copy\n",
      "  \n"
     ]
    },
    {
     "data": {
      "text/plain": [
       "<matplotlib.axes._subplots.AxesSubplot at 0x16c15407240>"
      ]
     },
     "execution_count": 57,
     "metadata": {},
     "output_type": "execute_result"
    }
   ],
   "source": [
    "# Plot difference in cash\n",
    "df_wo_greedy[\"difference_between_optimal_agent\"] =df_wo_greedy[\"optimal_final_cash_balance\"]-df_wo_greedy[\"agent_final_cash_balance\"]\n",
    "\n",
    "df_wo_greedy[:1000].plot(x=\"episode\", y=\"difference_between_optimal_agent\")"
   ]
  },
  {
   "cell_type": "code",
   "execution_count": 30,
   "metadata": {},
   "outputs": [
    {
     "name": "stdout",
     "output_type": "stream",
     "text": [
      "-0.012701207403210013 0.025108112388614323 0.07483583041405506 0.07103719119918672\n"
     ]
    }
   ],
   "source": [
    "print(df_wo_greedy[\"difference_between_optimal_agent\"][:100].median(),\n",
    "df_wo_greedy[\"difference_between_optimal_agent\"][:1000].median(),\n",
    "df_wo_greedy[\"difference_between_optimal_agent\"][:10000].median(),\n",
    "df_wo_greedy[\"difference_between_optimal_agent\"].median())"
   ]
  },
  {
   "cell_type": "code",
   "execution_count": null,
   "metadata": {},
   "outputs": [],
   "source": [
    "df_wo_greedy.plot(x=\"episode\", y=\"cumulative_liquidity_costs\")"
   ]
  },
  {
   "cell_type": "code",
   "execution_count": 63,
   "metadata": {},
   "outputs": [
    {
     "data": {
      "text/plain": [
       "<matplotlib.axes._subplots.AxesSubplot at 0x16c08e5b940>"
      ]
     },
     "execution_count": 63,
     "metadata": {},
     "output_type": "execute_result"
    }
   ],
   "source": [
    "# Moving average\n",
    "only_difference = df_wo_greedy[[\"difference_between_optimal_agent\", \"episode\"]]\n",
    "rolling = only_difference.rolling(window=500).mean()\n",
    "rolling.plot()"
   ]
  },
  {
   "cell_type": "code",
   "execution_count": 65,
   "metadata": {},
   "outputs": [
    {
     "data": {
      "text/plain": [
       "<matplotlib.axes._subplots.AxesSubplot at 0x16c154b4940>"
      ]
     },
     "execution_count": 65,
     "metadata": {},
     "output_type": "execute_result"
    }
   ],
   "source": [
    "import seaborn as sns\n",
    "episodes = df_wo_greedy[\"episode\"]\n",
    "difference = df_wo_greedy[\"difference_between_optimal_agent\"]\n",
    "\n",
    "ma1 = difference.rolling(window=250).mean()\n",
    "ma2 = difference.rolling(window=1500).mean()\n",
    "ma3 = difference.rolling(window=3000).mean()\n",
    "df_plot_difference=pd.DataFrame({\"episode\":episodes, \"difference\":difference, \"ma1\":ma1, \"ma2\":ma2, \"ma3\":ma3})\n",
    "df_plot_difference.plot(x=\"episode\", y=[\"ma1\",\"ma2\",\"ma3\"])\n"
   ]
  },
  {
   "cell_type": "code",
   "execution_count": null,
   "metadata": {},
   "outputs": [],
   "source": []
  }
 ],
 "metadata": {
  "file_extension": ".py",
  "kernelspec": {
   "display_name": "Python 3",
   "language": "python",
   "name": "python3"
  },
  "language_info": {
   "codemirror_mode": {
    "name": "ipython",
    "version": 3
   },
   "file_extension": ".py",
   "mimetype": "text/x-python",
   "name": "python",
   "nbconvert_exporter": "python",
   "pygments_lexer": "ipython3",
   "version": "3.7.3"
  },
  "mimetype": "text/x-python",
  "name": "python",
  "npconvert_exporter": "python",
  "pygments_lexer": "ipython3",
  "version": 3
 },
 "nbformat": 4,
 "nbformat_minor": 2
}
