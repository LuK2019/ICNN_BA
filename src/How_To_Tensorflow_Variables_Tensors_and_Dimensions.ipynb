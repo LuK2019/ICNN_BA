{
 "cells": [
  {
   "cell_type": "markdown",
   "metadata": {},
   "source": [
    "# Tensorflow shapes"
   ]
  },
  {
   "cell_type": "code",
   "execution_count": 45,
   "metadata": {},
   "outputs": [],
   "source": [
    "import tensorflow as tf\n",
    "import numpy as np"
   ]
  },
  {
   "cell_type": "markdown",
   "metadata": {},
   "source": [
    "### We mostly use variables for weights, we do not create Tensors like tf.Tensor, but tensors are output of an operation"
   ]
  },
  {
   "cell_type": "code",
   "execution_count": 121,
   "metadata": {},
   "outputs": [
    {
     "name": "stdout",
     "output_type": "stream",
     "text": [
      "<tf.Variable 'Variable_25:0' shape=() dtype=float32_ref>\n"
     ]
    },
    {
     "data": {
      "text/plain": [
       "TensorShape([])"
      ]
     },
     "execution_count": 121,
     "metadata": {},
     "output_type": "execute_result"
    }
   ],
   "source": [
    "x = tf.Variable(1., dtype=\"float32\")\n",
    "print(x)\n",
    "x.shape"
   ]
  },
  {
   "cell_type": "code",
   "execution_count": 122,
   "metadata": {},
   "outputs": [
    {
     "name": "stdout",
     "output_type": "stream",
     "text": [
      "<tf.Variable 'Variable_26:0' shape=(1,) dtype=float32_ref>\n"
     ]
    },
    {
     "data": {
      "text/plain": [
       "TensorShape([Dimension(1)])"
      ]
     },
     "execution_count": 122,
     "metadata": {},
     "output_type": "execute_result"
    }
   ],
   "source": [
    "x = tf.Variable([1.], dtype=\"float32\")\n",
    "print(x)\n",
    "x.shape"
   ]
  },
  {
   "cell_type": "code",
   "execution_count": 123,
   "metadata": {},
   "outputs": [
    {
     "name": "stdout",
     "output_type": "stream",
     "text": [
      "<tf.Variable 'Variable_27:0' shape=(1, 1) dtype=float32_ref>\n"
     ]
    },
    {
     "data": {
      "text/plain": [
       "TensorShape([Dimension(1), Dimension(1)])"
      ]
     },
     "execution_count": 123,
     "metadata": {},
     "output_type": "execute_result"
    }
   ],
   "source": [
    "x = tf.Variable([[1.]], dtype=\"float32\")\n",
    "print(x)\n",
    "x.shape"
   ]
  },
  {
   "cell_type": "code",
   "execution_count": 124,
   "metadata": {},
   "outputs": [
    {
     "name": "stdout",
     "output_type": "stream",
     "text": [
      "<tf.Variable 'Variable_28:0' shape=(2, 3) dtype=float32_ref>\n"
     ]
    },
    {
     "data": {
      "text/plain": [
       "TensorShape([Dimension(2), Dimension(3)])"
      ]
     },
     "execution_count": 124,
     "metadata": {},
     "output_type": "execute_result"
    }
   ],
   "source": [
    "x = tf.Variable([[3.,2.,1.],[4.,5.,6.]])\n",
    "print(x)\n",
    "x.shape"
   ]
  },
  {
   "cell_type": "markdown",
   "metadata": {},
   "source": [
    "### Creating Tensors"
   ]
  },
  {
   "cell_type": "markdown",
   "metadata": {},
   "source": [
    "To transform a variable to a tensor use:\n",
    "#### tf.convert_to_tensor()"
   ]
  },
  {
   "cell_type": "code",
   "execution_count": 127,
   "metadata": {},
   "outputs": [
    {
     "name": "stdout",
     "output_type": "stream",
     "text": [
      "Type after conversion <class 'tensorflow.python.framework.ops.Tensor'> Type before conversion <class 'tensorflow.python.ops.variables.RefVariable'>\n"
     ]
    }
   ],
   "source": [
    "x_tensor = tf.convert_to_tensor(x)\n",
    "print(\"Type after conversion\", type(x_tensor), \"Type before conversion\", type(x))"
   ]
  },
  {
   "cell_type": "markdown",
   "metadata": {},
   "source": [
    "The output of an operation of two variables will be a tensor, as well as between a tensor and a variable"
   ]
  },
  {
   "cell_type": "code",
   "execution_count": 149,
   "metadata": {},
   "outputs": [
    {
     "name": "stdout",
     "output_type": "stream",
     "text": [
      "Matrix shape (2, 3) vector shape (3, 1)\n",
      "output1 shape (2, 1) output1 type <class 'tensorflow.python.framework.ops.Tensor'>\n"
     ]
    }
   ],
   "source": [
    "matrix_variable = tf.Variable([[3.,2.,1.],[1.,1.,1.]])\n",
    "vector_variable = tf.Variable([[1.],[1.],[1.]])\n",
    "print(\"Matrix shape\", matrix_variable.shape, \"vector shape\", vector_variable.shape)\n",
    "\n",
    "output1 = tf.matmul(matrix_variable, vector_variable)\n",
    "print(\"output1 shape\", output1.shape, \"output1 type\", type(output1))"
   ]
  },
  {
   "cell_type": "markdown",
   "metadata": {},
   "source": [
    "### Converting tensor to np.array"
   ]
  },
  {
   "cell_type": "code",
   "execution_count": 147,
   "metadata": {},
   "outputs": [
    {
     "data": {
      "text/plain": [
       "numpy.ndarray"
      ]
     },
     "execution_count": 147,
     "metadata": {},
     "output_type": "execute_result"
    }
   ],
   "source": [
    "type(np.array(output1))"
   ]
  },
  {
   "cell_type": "markdown",
   "metadata": {},
   "source": [
    "### Dimensions of tensorflow/numpy arrays\n",
    "##### We see that the inner-most bracket represents the last dimension index"
   ]
  },
  {
   "cell_type": "code",
   "execution_count": 28,
   "metadata": {},
   "outputs": [
    {
     "data": {
      "text/plain": [
       "TensorShape([Dimension(2), Dimension(2), Dimension(3)])"
      ]
     },
     "execution_count": 28,
     "metadata": {},
     "output_type": "execute_result"
    }
   ],
   "source": [
    "x3d = tf.Variable([[[3.,2.,3.],[4.,5.,4.]],[[3.,2.,5.],[4.,5.,6.]]])\n",
    "x3d.shape"
   ]
  },
  {
   "cell_type": "markdown",
   "metadata": {},
   "source": [
    "### Now we take two column vectors and try to form a list in tensorflow"
   ]
  },
  {
   "cell_type": "code",
   "execution_count": 30,
   "metadata": {},
   "outputs": [
    {
     "name": "stdout",
     "output_type": "stream",
     "text": [
      "x1 shape (2, 1)\n",
      "x2 shape (2, 1)\n"
     ]
    }
   ],
   "source": [
    "x1 = tf.Variable([[3.],[2.]])\n",
    "x2 = tf.Variable([[4.],[3.]])\n",
    "print(\"x1 shape\", x1.shape)\n",
    "print(\"x2 shape\", x2.shape)"
   ]
  },
  {
   "cell_type": "code",
   "execution_count": 34,
   "metadata": {},
   "outputs": [
    {
     "name": "stdout",
     "output_type": "stream",
     "text": [
      "python list of tensors [<tf.Variable 'Variable_22:0' shape=(2, 1) dtype=float32_ref>, <tf.Variable 'Variable_23:0' shape=(2, 1) dtype=float32_ref>]\n",
      "<class 'list'>\n"
     ]
    }
   ],
   "source": [
    "# PYTHON LIST\n",
    "\n",
    "print(\"python list of tensors\",[x1,x2])\n",
    "print(type([x1,x2]))"
   ]
  },
  {
   "cell_type": "code",
   "execution_count": 36,
   "metadata": {},
   "outputs": [
    {
     "name": "stderr",
     "output_type": "stream",
     "text": [
      "WARNING: Logging before flag parsing goes to stderr.\n",
      "W1031 08:50:58.791300 11908 deprecation.py:323] From C:\\Users\\lukas\\Anaconda3\\lib\\site-packages\\tensorflow\\python\\ops\\variables.py:2618: Variable.initialized_value (from tensorflow.python.ops.variables) is deprecated and will be removed in a future version.\n",
      "Instructions for updating:\n",
      "Use Variable.read_value. Variables in 2.X are initialized automatically both in eager and graph (inside tf.defun) contexts.\n"
     ]
    },
    {
     "name": "stdout",
     "output_type": "stream",
     "text": [
      "tensor_list <tf.Variable 'Variable_24:0' shape=(2, 2, 1) dtype=float32_ref>\n",
      "shape (2, 2, 1)\n"
     ]
    }
   ],
   "source": [
    "# TENSOR LIST\n",
    "l = tf.Variable([x1,x2])\n",
    "print(\"tensor_list\", l)\n",
    "print(\"shape\", l.shape)"
   ]
  },
  {
   "cell_type": "code",
   "execution_count": 43,
   "metadata": {},
   "outputs": [
    {
     "data": {
      "text/plain": [
       "<tf.Tensor 'strided_slice_8:0' shape=(2, 1) dtype=float32>"
      ]
     },
     "execution_count": 43,
     "metadata": {},
     "output_type": "execute_result"
    }
   ],
   "source": [
    "l[0]"
   ]
  },
  {
   "cell_type": "code",
   "execution_count": 75,
   "metadata": {},
   "outputs": [],
   "source": [
    "x = np.array([[3.],[2.],[4.]])\n",
    "y = x.copy()"
   ]
  },
  {
   "cell_type": "code",
   "execution_count": 78,
   "metadata": {},
   "outputs": [
    {
     "data": {
      "text/plain": [
       "(2, 3, 1)"
      ]
     },
     "execution_count": 78,
     "metadata": {},
     "output_type": "execute_result"
    }
   ],
   "source": [
    "z = np.array([x,y])\n",
    "z.shape"
   ]
  },
  {
   "cell_type": "markdown",
   "metadata": {},
   "source": [
    "# Converting np.ndarray training data into tf.data to feed the model"
   ]
  },
  {
   "cell_type": "markdown",
   "metadata": {},
   "source": [
    "See:https://www.tensorflow.org/guide/data"
   ]
  },
  {
   "cell_type": "code",
   "execution_count": 65,
   "metadata": {},
   "outputs": [
    {
     "name": "stdout",
     "output_type": "stream",
     "text": [
      "Downloading data from https://storage.googleapis.com/tensorflow/tf-keras-datasets/train-labels-idx1-ubyte.gz\n",
      "32768/29515 [=================================] - 0s 1us/step\n",
      "Downloading data from https://storage.googleapis.com/tensorflow/tf-keras-datasets/train-images-idx3-ubyte.gz\n",
      "26427392/26421880 [==============================] - 2s 0us/step\n",
      "Downloading data from https://storage.googleapis.com/tensorflow/tf-keras-datasets/t10k-labels-idx1-ubyte.gz\n",
      "8192/5148 [===============================================] - 0s 1us/step\n",
      "Downloading data from https://storage.googleapis.com/tensorflow/tf-keras-datasets/t10k-images-idx3-ubyte.gz\n",
      "4423680/4422102 [==============================] - 0s 0us/step\n"
     ]
    }
   ],
   "source": [
    "train, test = tf.keras.datasets.fashion_mnist.load_data()"
   ]
  },
  {
   "cell_type": "markdown",
   "metadata": {},
   "source": [
    " The training set is a tuple of (input, label), whereas input has dimension (n_samples, \"single_instance_shape_here\") and label has shape (n_samples,)"
   ]
  },
  {
   "cell_type": "code",
   "execution_count": 98,
   "metadata": {},
   "outputs": [
    {
     "name": "stdout",
     "output_type": "stream",
     "text": [
      "Type <class 'tuple'> tuple length 2\n"
     ]
    }
   ],
   "source": [
    "print(\"Type\", type(train), \"tuple length\", len(train))"
   ]
  },
  {
   "cell_type": "code",
   "execution_count": 100,
   "metadata": {},
   "outputs": [
    {
     "name": "stdout",
     "output_type": "stream",
     "text": [
      "Type of first tuple component <class 'numpy.ndarray'> with shape (60000, 28, 28)\n"
     ]
    }
   ],
   "source": [
    "print(\"Type of first tuple component\", type(train[0]),\"with shape\", train[0].shape)"
   ]
  },
  {
   "cell_type": "code",
   "execution_count": 101,
   "metadata": {},
   "outputs": [
    {
     "name": "stdout",
     "output_type": "stream",
     "text": [
      "Type of second tuple component <class 'numpy.ndarray'> with shape (60000,)\n"
     ]
    }
   ],
   "source": [
    "print(\"Type of second tuple component\", type(train[1]),\"with shape\", train[1].shape)"
   ]
  },
  {
   "cell_type": "markdown",
   "metadata": {},
   "source": [
    "### Convert np.ndarray tuple into tf.data "
   ]
  },
  {
   "cell_type": "code",
   "execution_count": 105,
   "metadata": {},
   "outputs": [],
   "source": [
    "dataset = tf.data.Dataset.from_tensor_slices((x,y))"
   ]
  },
  {
   "cell_type": "code",
   "execution_count": 86,
   "metadata": {},
   "outputs": [
    {
     "data": {
      "text/plain": [
       "<DatasetV1Adapter shapes: ((28, 28), ()), types: (tf.uint8, tf.uint8)>"
      ]
     },
     "execution_count": 86,
     "metadata": {},
     "output_type": "execute_result"
    }
   ],
   "source": [
    "dataset"
   ]
  },
  {
   "cell_type": "code",
   "execution_count": 87,
   "metadata": {},
   "outputs": [
    {
     "ename": "TypeError",
     "evalue": "'DatasetV1Adapter' object is not subscriptable",
     "output_type": "error",
     "traceback": [
      "\u001b[1;31m---------------------------------------------------------------------------\u001b[0m",
      "\u001b[1;31mTypeError\u001b[0m                                 Traceback (most recent call last)",
      "\u001b[1;32m<ipython-input-87-55a9d71005c6>\u001b[0m in \u001b[0;36m<module>\u001b[1;34m\u001b[0m\n\u001b[1;32m----> 1\u001b[1;33m \u001b[0mdataset\u001b[0m\u001b[1;33m[\u001b[0m\u001b[1;36m0\u001b[0m\u001b[1;33m]\u001b[0m\u001b[1;33m\u001b[0m\u001b[1;33m\u001b[0m\u001b[0m\n\u001b[0m",
      "\u001b[1;31mTypeError\u001b[0m: 'DatasetV1Adapter' object is not subscriptable"
     ]
    }
   ],
   "source": [
    "dataset[0]"
   ]
  },
  {
   "cell_type": "code",
   "execution_count": 92,
   "metadata": {},
   "outputs": [
    {
     "name": "stdout",
     "output_type": "stream",
     "text": [
      "(<tf.Tensor 'IteratorGetNext_25447:0' shape=(28, 28) dtype=uint8>, <tf.Tensor 'IteratorGetNext_25447:1' shape=() dtype=uint8>)\n",
      "(<tf.Tensor 'IteratorGetNext_25447:0' shape=(28, 28) dtype=uint8>, <tf.Tensor 'IteratorGetNext_25447:1' shape=() dtype=uint8>)\n",
      "(<tf.Tensor 'IteratorGetNext_25447:0' shape=(28, 28) dtype=uint8>, <tf.Tensor 'IteratorGetNext_25447:1' shape=() dtype=uint8>)\n",
      "(<tf.Tensor 'IteratorGetNext_25447:0' shape=(28, 28) dtype=uint8>, <tf.Tensor 'IteratorGetNext_25447:1' shape=() dtype=uint8>)\n",
      "(<tf.Tensor 'IteratorGetNext_25447:0' shape=(28, 28) dtype=uint8>, <tf.Tensor 'IteratorGetNext_25447:1' shape=() dtype=uint8>)\n",
      "(<tf.Tensor 'IteratorGetNext_25447:0' shape=(28, 28) dtype=uint8>, <tf.Tensor 'IteratorGetNext_25447:1' shape=() dtype=uint8>)\n",
      "(<tf.Tensor 'IteratorGetNext_25447:0' shape=(28, 28) dtype=uint8>, <tf.Tensor 'IteratorGetNext_25447:1' shape=() dtype=uint8>)\n",
      "(<tf.Tensor 'IteratorGetNext_25447:0' shape=(28, 28) dtype=uint8>, <tf.Tensor 'IteratorGetNext_25447:1' shape=() dtype=uint8>)\n",
      "(<tf.Tensor 'IteratorGetNext_25447:0' shape=(28, 28) dtype=uint8>, <tf.Tensor 'IteratorGetNext_25447:1' shape=() dtype=uint8>)\n",
      "(<tf.Tensor 'IteratorGetNext_25447:0' shape=(28, 28) dtype=uint8>, <tf.Tensor 'IteratorGetNext_25447:1' shape=() dtype=uint8>)\n"
     ]
    }
   ],
   "source": [
    "k = 0\n",
    "for item in dataset:\n",
    "    while k < 10:\n",
    "        print(item)\n",
    "        k+=1\n",
    "    else:\n",
    "        break"
   ]
  },
  {
   "cell_type": "code",
   "execution_count": 119,
   "metadata": {},
   "outputs": [
    {
     "name": "stdout",
     "output_type": "stream",
     "text": [
      "Complete item (<tf.Tensor 'IteratorGetNext_25463:0' shape=(?, 28, 28) dtype=uint8>, <tf.Tensor 'IteratorGetNext_25463:1' shape=(?,) dtype=uint8>)\n",
      "\n",
      " We see the batch size is unknown, nonetheless we can select the first component x, of the (x,y) tuple and also index through the tensors: \n",
      "\n",
      "First componenent of item  Tensor(\"IteratorGetNext_25463:0\", shape=(?, 28, 28), dtype=uint8) \n",
      " The first tensor entry Tensor(\"strided_slice_20:0\", shape=(28, 28), dtype=uint8)\n",
      "\n",
      " Second componenent of item  Tensor(\"IteratorGetNext_25463:1\", shape=(?,), dtype=uint8)\n"
     ]
    }
   ],
   "source": [
    "d = dataset.batch(10)\n",
    "k = 0\n",
    "for item in d:\n",
    "    while k < 1:\n",
    "        print(\"Complete item\", item)\n",
    "        print(\"\\n\", \"We see the batch size is unknown, nonetheless we can select the first component x, of the (x,y) tuple and also index through the tensors:\", \"\\n\")\n",
    "        print(\"First componenent of item \", item[0], \"\\n\", \"The first tensor entry\", item[0][0,:,:])\n",
    "        print(\"\\n\",\"Second componenent of item \", item[1])\n",
    "\n",
    "        k+=1\n",
    "    else:\n",
    "        break"
   ]
  },
  {
   "cell_type": "code",
   "execution_count": 94,
   "metadata": {},
   "outputs": [
    {
     "ename": "SyntaxError",
     "evalue": "unexpected EOF while parsing (<ipython-input-94-443c99accac0>, line 4)",
     "output_type": "error",
     "traceback": [
      "\u001b[1;36m  File \u001b[1;32m\"<ipython-input-94-443c99accac0>\"\u001b[1;36m, line \u001b[1;32m4\u001b[0m\n\u001b[1;33m    with tf.GradientTape() as tape:\u001b[0m\n\u001b[1;37m                                   ^\u001b[0m\n\u001b[1;31mSyntaxError\u001b[0m\u001b[1;31m:\u001b[0m unexpected EOF while parsing\n"
     ]
    }
   ],
   "source": [
    "# To use it in a model, one would do something like\n",
    "dataset = dataset.batch(10) # Splits up the data set in 10 batches\n",
    "for X_batch, y_batch in dataset:\n",
    "    with tf.GradientTape() as tape:\n",
    "        y_pred=model(X_batch)\n",
    "        loss = mse_loss(y_pred, y_batch)\n",
    "    grads = tape.gradient(loss, model.trainable_variables)\n",
    "    # Now gradient descent step"
   ]
  }
 ],
 "metadata": {
  "kernelspec": {
   "display_name": "Python 3",
   "language": "python",
   "name": "python3"
  },
  "language_info": {
   "codemirror_mode": {
    "name": "ipython",
    "version": 3
   },
   "file_extension": ".py",
   "mimetype": "text/x-python",
   "name": "python",
   "nbconvert_exporter": "python",
   "pygments_lexer": "ipython3",
   "version": "3.7.3"
  }
 },
 "nbformat": 4,
 "nbformat_minor": 2
}
