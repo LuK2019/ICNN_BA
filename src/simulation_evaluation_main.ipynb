{
 "cells": [
  {
   "cell_type": "code",
   "execution_count": 1,
   "metadata": {},
   "outputs": [],
   "source": [
    "%matplotlib qt\n",
    "\n",
    "import numpy as np \n",
    "import pandas as pd \n",
    "import matplotlib.pyplot as plt     \n",
    "import matplotlib\n",
    "import tensorflow as tf\n",
    "import seaborn as sns\n",
    "\n",
    "from core.simulation.validation import Gamma\n",
    "from core.simulation.game import Phi\n",
    "\n",
    "\n",
    "matplotlib.rcParams['figure.figsize'] = [20, 10]\n",
    "sns.set(style=\"white\")\n"
   ]
  },
  {
   "cell_type": "code",
   "execution_count": 2,
   "metadata": {},
   "outputs": [],
   "source": [
    "# Import Data Frame\n",
    "\n",
    "# Specify path\n",
    "LOG_NUM =  3336\n",
    "PATH_TO_DF = r\"C:\\Users\\lukas\\OneDrive\\Universität\\Mathematik\\Bachelorarbeit\\log_dir\\log_{}\\SIMULATION_SUMMARY\\simulation_summary_log_{}.pkl\".format(LOG_NUM, LOG_NUM)\n",
    "PATH_TO_MODEL = r\"C:\\Users\\lukas\\OneDrive\\Universität\\Mathematik\\Bachelorarbeit\\log_dir\\log_{}\\WEIGHTS\\1\".format(\n",
    "    LOG_NUM\n",
    ")\n",
    "\n",
    "# Load data, calculate accuracy, remove greedy choices\n",
    "df = pd.read_pickle(PATH_TO_DF)\n",
    "df[\"difference_between_optimal_agent\"] =df[\"optimal_final_cash_balance\"]-df[\"agent_final_cash_balance\"]\n",
    "df_wo_greedy = df[df[\"greedy\"]==0]"
   ]
  },
  {
   "cell_type": "code",
   "execution_count": 4,
   "metadata": {},
   "outputs": [
    {
     "data": {
      "text/html": [
       "<div>\n",
       "<style scoped>\n",
       "    .dataframe tbody tr th:only-of-type {\n",
       "        vertical-align: middle;\n",
       "    }\n",
       "\n",
       "    .dataframe tbody tr th {\n",
       "        vertical-align: top;\n",
       "    }\n",
       "\n",
       "    .dataframe thead th {\n",
       "        text-align: right;\n",
       "    }\n",
       "</style>\n",
       "<table border=\"1\" class=\"dataframe\">\n",
       "  <thead>\n",
       "    <tr style=\"text-align: right;\">\n",
       "      <th></th>\n",
       "      <th>agent_choice_of_x1</th>\n",
       "      <th>agent_final_cash_balance</th>\n",
       "      <th>cumulative_liquidity_costs</th>\n",
       "      <th>episode</th>\n",
       "      <th>greedy</th>\n",
       "      <th>initial_state</th>\n",
       "      <th>optimal_choice_of_x1</th>\n",
       "      <th>optimal_final_cash_balance</th>\n",
       "      <th>difference_between_optimal_agent</th>\n",
       "    </tr>\n",
       "  </thead>\n",
       "  <tbody>\n",
       "    <tr>\n",
       "      <th>49995</th>\n",
       "      <td>3.235000</td>\n",
       "      <td>12.476600</td>\n",
       "      <td>-4.837399</td>\n",
       "      <td>49995</td>\n",
       "      <td>1</td>\n",
       "      <td>[[5.0], [10.0], [1.0], [0.0]]</td>\n",
       "      <td>2.631182</td>\n",
       "      <td>12.498219</td>\n",
       "      <td>0.021620</td>\n",
       "    </tr>\n",
       "    <tr>\n",
       "      <th>49996</th>\n",
       "      <td>4.640000</td>\n",
       "      <td>11.132144</td>\n",
       "      <td>-3.115770</td>\n",
       "      <td>49996</td>\n",
       "      <td>0</td>\n",
       "      <td>[[5.0], [10.0], [1.0], [0.0]]</td>\n",
       "      <td>2.631182</td>\n",
       "      <td>11.683997</td>\n",
       "      <td>0.551853</td>\n",
       "    </tr>\n",
       "    <tr>\n",
       "      <th>49997</th>\n",
       "      <td>7.397895</td>\n",
       "      <td>0.836025</td>\n",
       "      <td>-12.954699</td>\n",
       "      <td>49997</td>\n",
       "      <td>1</td>\n",
       "      <td>[[5.0], [10.0], [1.0], [0.0]]</td>\n",
       "      <td>2.631182</td>\n",
       "      <td>11.682721</td>\n",
       "      <td>10.846696</td>\n",
       "    </tr>\n",
       "    <tr>\n",
       "      <th>49998</th>\n",
       "      <td>4.290000</td>\n",
       "      <td>11.615420</td>\n",
       "      <td>-3.909879</td>\n",
       "      <td>49998</td>\n",
       "      <td>0</td>\n",
       "      <td>[[5.0], [10.0], [1.0], [0.0]]</td>\n",
       "      <td>2.631182</td>\n",
       "      <td>11.948047</td>\n",
       "      <td>0.332627</td>\n",
       "    </tr>\n",
       "    <tr>\n",
       "      <th>49999</th>\n",
       "      <td>4.040000</td>\n",
       "      <td>12.246983</td>\n",
       "      <td>-5.415664</td>\n",
       "      <td>49999</td>\n",
       "      <td>0</td>\n",
       "      <td>[[5.0], [10.0], [1.0], [0.0]]</td>\n",
       "      <td>2.631182</td>\n",
       "      <td>12.446038</td>\n",
       "      <td>0.199055</td>\n",
       "    </tr>\n",
       "  </tbody>\n",
       "</table>\n",
       "</div>"
      ],
      "text/plain": [
       "       agent_choice_of_x1  agent_final_cash_balance  \\\n",
       "49995            3.235000                 12.476600   \n",
       "49996            4.640000                 11.132144   \n",
       "49997            7.397895                  0.836025   \n",
       "49998            4.290000                 11.615420   \n",
       "49999            4.040000                 12.246983   \n",
       "\n",
       "       cumulative_liquidity_costs episode greedy  \\\n",
       "49995                   -4.837399   49995      1   \n",
       "49996                   -3.115770   49996      0   \n",
       "49997                  -12.954699   49997      1   \n",
       "49998                   -3.909879   49998      0   \n",
       "49999                   -5.415664   49999      0   \n",
       "\n",
       "                       initial_state  optimal_choice_of_x1  \\\n",
       "49995  [[5.0], [10.0], [1.0], [0.0]]              2.631182   \n",
       "49996  [[5.0], [10.0], [1.0], [0.0]]              2.631182   \n",
       "49997  [[5.0], [10.0], [1.0], [0.0]]              2.631182   \n",
       "49998  [[5.0], [10.0], [1.0], [0.0]]              2.631182   \n",
       "49999  [[5.0], [10.0], [1.0], [0.0]]              2.631182   \n",
       "\n",
       "       optimal_final_cash_balance  difference_between_optimal_agent  \n",
       "49995                   12.498219                          0.021620  \n",
       "49996                   11.683997                          0.551853  \n",
       "49997                   11.682721                         10.846696  \n",
       "49998                   11.948047                          0.332627  \n",
       "49999                   12.446038                          0.199055  "
      ]
     },
     "execution_count": 4,
     "metadata": {},
     "output_type": "execute_result"
    }
   ],
   "source": [
    "# Inspect the simulation results\n",
    "df.tail()"
   ]
  },
  {
   "cell_type": "code",
   "execution_count": 5,
   "metadata": {},
   "outputs": [
    {
     "name": "stdout",
     "output_type": "stream",
     "text": [
      "Expected value of distribution 1.3, Volatility of distribution 0.08333333333333333\n"
     ]
    }
   ],
   "source": [
    "# Metadata: alpha\n",
    "\n",
    "alpha = 0.1\n",
    "lower_bound=0.8\n",
    "upper_bound=1.8\n",
    "def get_mu_vola(lower_bound, upper_bound):\n",
    "    mu = (lower_bound + upper_bound)/2 \n",
    "    vola = (1/12)*(upper_bound - lower_bound)**2 \n",
    "    return mu, vola\n",
    "\n",
    "mu, vola = get_mu_vola(lower_bound, upper_bound)\n",
    "\n",
    "print(f\"Expected value of distribution {mu}, Volatility of distribution {vola}\")"
   ]
  },
  {
   "cell_type": "code",
   "execution_count": 6,
   "metadata": {},
   "outputs": [
    {
     "name": "stdout",
     "output_type": "stream",
     "text": [
      "Initial state:\n",
      " [[ 5.]\n",
      " [10.]\n",
      " [ 1.]\n",
      " [ 0.]],\n",
      " The optimal choice of x1: 3.811821322337455,\n",
      " The expected return of optimal strategy: 15.24060972188039,\n",
      " The volatitlity of optimal strategy: 0.8371258455171295\n"
     ]
    }
   ],
   "source": [
    "# Calculate optimal choices \n",
    "\n",
    "initial_state = df.loc[0,\"initial_state\"]\n",
    "\n",
    "def get_gamma_val(initial_state, alpha):\n",
    "    x, y, S, t = initial_state[:, 0]\n",
    "    return np.log((y * alpha) / (S) + 1) * (1 / alpha) + x\n",
    "\n",
    "def get_optimal_x1(initial_state, alpha, mu, gamma_val):\n",
    "    x,y,S,t = initial_state[:,0]\n",
    "    x_star = (np.log(mu) + x * alpha) / (2 * alpha)\n",
    "    if x_star < 0:\n",
    "        return 0\n",
    "    if (0 <= x_star) & (x_star <= gamma_val):\n",
    "        return x_star\n",
    "    else:\n",
    "        return gamma_val\n",
    "    \n",
    "def max_return_optimal(initial_state, optimal_x1, mu, alpha):\n",
    "    x,y,S,t = initial_state[:,0]\n",
    "    return y-Phi(optimal_x1-x,alpha)*S - Phi(-optimal_x1,alpha)*S*mu\n",
    "\n",
    "\n",
    "def optimal_vola(initial_state, optimal_x1, vola,alpha):\n",
    "    x,y,S,t = initial_state[:,0]\n",
    "    return (Phi(-optimal_x1,alpha)**2)*(S**2)*vola\n",
    "\n",
    "gamma_val = get_gamma_val(initial_state, alpha)\n",
    "optimal_x1 = get_optimal_x1(initial_state, alpha, mu, gamma_val)\n",
    "return_optimal = max_return_optimal(initial_state, optimal_x1, mu,alpha)\n",
    "vola_optimal = optimal_vola(initial_state, optimal_x1, vola,alpha)\n",
    "\n",
    "print(f\"Initial state:\\n {initial_state},\\n The optimal choice of x1: {optimal_x1},\\n The expected return of optimal strategy: {return_optimal},\\n The volatitlity of optimal strategy: {vola_optimal}\")"
   ]
  },
  {
   "cell_type": "code",
   "execution_count": 4,
   "metadata": {},
   "outputs": [
    {
     "data": {
      "text/plain": [
       "<matplotlib.axes._subplots.AxesSubplot at 0x208e8f12b00>"
      ]
     },
     "execution_count": 4,
     "metadata": {},
     "output_type": "execute_result"
    }
   ],
   "source": [
    "# Plot the responses for different events and regions\n",
    "sns.lineplot(x=\"episode\", y=\"agent_choice_of_x1\",hue=\"greedy\",\n",
    "             data=df)"
   ]
  },
  {
   "cell_type": "code",
   "execution_count": 7,
   "metadata": {},
   "outputs": [
    {
     "name": "stderr",
     "output_type": "stream",
     "text": [
      "C:\\Users\\lukas\\Anaconda3\\lib\\site-packages\\matplotlib\\cbook\\__init__.py:1725: UserWarning: Saw kwargs ['c', 'color'] which are all aliases for 'color'.  Kept value from 'color'\n",
      "  seen=seen, canon=canonical, used=seen[-1]))\n",
      "C:\\Users\\lukas\\Anaconda3\\lib\\site-packages\\matplotlib\\cbook\\__init__.py:1725: UserWarning: Saw kwargs ['c', 'color'] which are all aliases for 'color'.  Kept value from 'color'\n",
      "  seen=seen, canon=canonical, used=seen[-1]))\n"
     ]
    },
    {
     "data": {
      "text/plain": [
       "Text(0, 0.5, 'agent_choice_of_x1')"
      ]
     },
     "execution_count": 7,
     "metadata": {},
     "output_type": "execute_result"
    }
   ],
   "source": [
    "# Mooving average plot 1\n",
    "\n",
    "X_AXIS = \"episode\"\n",
    "Y_AXIS = \"agent_choice_of_x1\"\n",
    "\n",
    "x_axis_data= df_wo_greedy[X_AXIS]\n",
    "y_axis_data = df_wo_greedy[Y_AXIS]\n",
    "\n",
    "MA_1 = 250\n",
    "MA_2 = 1500\n",
    "MA_3 = 3000\n",
    "\n",
    "MA_1_wo_greedy = y_axis_data.rolling(window=MA_1).mean()\n",
    "MA_2_wo_greedy = y_axis_data.rolling(window=MA_2).mean()\n",
    "MA_3_wo_greedy = y_axis_data.rolling(window=MA_3).mean()\n",
    "\n",
    "\n",
    "df_MA_wo_greedy =pd.DataFrame({X_AXIS:x_axis_data, Y_AXIS:y_axis_data, \"MA_1\":MA_1_wo_greedy, \"MA_2\":MA_2_wo_greedy, \"MA_3\":MA_3_wo_greedy})\n",
    "sns.lineplot(x=\"episode\", y=Y_AXIS, data=df_MA_wo_greedy, label=\"original series\", alpha=0.5)\n",
    "sns.lineplot(x=\"episode\", y=\"MA_1\", data=df_MA_wo_greedy, label=\"MA Factor: {}\".format(MA_1))\n",
    "sns.lineplot(x=\"episode\", y=\"MA_2\", data=df_MA_wo_greedy,label=\"MA Factor: {}\".format(MA_2), c='r')\n",
    "# sns.lineplot(x=\"episode\", y=\"MA_3\", data=df_MA_wo_greedy,label=\"MA Factor: {}\".format(MA_3))\n",
    "plt.title(Y_AXIS + \" progression during training\")\n",
    "plt.xlabel(X_AXIS)\n",
    "plt.ylabel(Y_AXIS)"
   ]
  },
  {
   "cell_type": "code",
   "execution_count": 16,
   "metadata": {},
   "outputs": [
    {
     "data": {
      "text/plain": [
       "Text(0.5, 0, 'episode')"
      ]
     },
     "execution_count": 16,
     "metadata": {},
     "output_type": "execute_result"
    }
   ],
   "source": [
    "# Mooving average plot 1\n",
    "\n",
    "X_AXIS = \"episode\"\n",
    "Y_AXIS_1 = \"cumulative_liquidity_costs\"\n",
    "Y_AXIS_2 = \"agent_choice_of_x1\"\n",
    "Y_AXIS_3 = \"agent_final_cash_balance\"\n",
    "\n",
    "x_axis_data= df_wo_greedy[X_AXIS]\n",
    "y_1_axis_data = df_wo_greedy[Y_AXIS_1]\n",
    "y_2_axis_data = df_wo_greedy[Y_AXIS_2]\n",
    "y_3_axis_data = df_wo_greedy[Y_AXIS_3]\n",
    "\n",
    "\n",
    "MA_1 = 250\n",
    "MA_2 = 250\n",
    "\n",
    "\n",
    "ma_y_1_wo_greedy = y_1_axis_data.rolling(window=MA_1).mean()\n",
    "ma_y_2_wo_greedy = y_2_axis_data.rolling(window=MA_1).mean()\n",
    "ma_y_3_wo_greedy = y_3_axis_data.rolling(window=MA_2).mean()\n",
    "\n",
    "\n",
    "\n",
    "df_MA_wo_greedy =pd.DataFrame({X_AXIS:x_axis_data, Y_AXIS_1:ma_y_1_wo_greedy, Y_AXIS_2:ma_y_2_wo_greedy, Y_AXIS_3:ma_y_3_wo_greedy})\n",
    "\n",
    "\n",
    "sns.lineplot(x=\"episode\", y=Y_AXIS_1, data=df_MA_wo_greedy, label=\"MA Factor: {}\".format(MA_1) + Y_AXIS_1)\n",
    "sns.lineplot(x=\"episode\", y=Y_AXIS_2, data=df_MA_wo_greedy, label=\"MA Factor: {}\".format(MA_1) + Y_AXIS_2)\n",
    "sns.lineplot(x=\"episode\", y=Y_AXIS_3, data=df_MA_wo_greedy, label=\"MA Factor: {}\".format(MA_2) + Y_AXIS_3)\n",
    "\n",
    "plt.title(Y_AXIS_1 + \" and \"+ Y_AXIS_2 +\" and \"+  Y_AXIS_3 + \" progression during training\")\n",
    "plt.xlabel(X_AXIS)"
   ]
  },
  {
   "cell_type": "code",
   "execution_count": 8,
   "metadata": {},
   "outputs": [
    {
     "data": {
      "text/plain": [
       "Text(0.5, 0, 'episode')"
      ]
     },
     "execution_count": 8,
     "metadata": {},
     "output_type": "execute_result"
    }
   ],
   "source": [
    "# Final cash balance rolling volatility\n",
    "X_AXIS = \"episode\"\n",
    "Y_AXIS_1 = \"agent_final_cash_balance\"\n",
    "\n",
    "x_axis_data= df_wo_greedy[X_AXIS]\n",
    "y_1_axis_data = df_wo_greedy[Y_AXIS_1]\n",
    "\n",
    "MA_1 = 250\n",
    "\n",
    "ma_y_1_wo_greedy = y_1_axis_data.rolling(window=MA_1).std()\n",
    "df_MA_wo_greedy =pd.DataFrame({X_AXIS:x_axis_data, Y_AXIS_1:ma_y_1_wo_greedy})\n",
    "\n",
    "\n",
    "sns.lineplot(x=\"episode\", y=Y_AXIS_1, data=df_MA_wo_greedy, label=\"Window size: {}\".format(MA_1) + \" of \" + Y_AXIS_1)\n",
    "\n",
    "plt.title(Y_AXIS_1 + \" rolling std {} during training\".format(MA_1))\n",
    "plt.xlabel(X_AXIS)"
   ]
  },
  {
   "cell_type": "code",
   "execution_count": 8,
   "metadata": {},
   "outputs": [
    {
     "ename": "TypeError",
     "evalue": "zip argument #2 must support iteration",
     "output_type": "error",
     "traceback": [
      "\u001b[1;31m---------------------------------------------------------------------------\u001b[0m",
      "\u001b[1;31mTypeError\u001b[0m                                 Traceback (most recent call last)",
      "\u001b[1;32m<ipython-input-8-ba942d05d59a>\u001b[0m in \u001b[0;36m<module>\u001b[1;34m\u001b[0m\n\u001b[0;32m     30\u001b[0m \u001b[1;33m\u001b[0m\u001b[0m\n\u001b[0;32m     31\u001b[0m \u001b[0max\u001b[0m\u001b[1;33m[\u001b[0m\u001b[1;36m0\u001b[0m\u001b[1;33m]\u001b[0m\u001b[1;33m.\u001b[0m\u001b[0mlegend_\u001b[0m\u001b[1;33m.\u001b[0m\u001b[0mremove\u001b[0m\u001b[1;33m(\u001b[0m\u001b[1;33m)\u001b[0m\u001b[1;33m\u001b[0m\u001b[1;33m\u001b[0m\u001b[0m\n\u001b[1;32m---> 32\u001b[1;33m \u001b[0max\u001b[0m\u001b[1;33m[\u001b[0m\u001b[1;36m1\u001b[0m\u001b[1;33m]\u001b[0m\u001b[1;33m.\u001b[0m\u001b[0mlegend\u001b[0m\u001b[1;33m(\u001b[0m\u001b[0mplt\u001b[0m\u001b[1;33m.\u001b[0m\u001b[0mlegend\u001b[0m\u001b[1;33m(\u001b[0m\u001b[0mbbox_to_anchor\u001b[0m\u001b[1;33m=\u001b[0m\u001b[1;33m(\u001b[0m\u001b[1;36m1.05\u001b[0m\u001b[1;33m,\u001b[0m \u001b[1;36m1\u001b[0m\u001b[1;33m)\u001b[0m\u001b[1;33m,\u001b[0m \u001b[0mloc\u001b[0m\u001b[1;33m=\u001b[0m\u001b[1;36m2\u001b[0m\u001b[1;33m,\u001b[0m \u001b[0mborderaxespad\u001b[0m\u001b[1;33m=\u001b[0m\u001b[1;36m0.\u001b[0m\u001b[1;33m)\u001b[0m\u001b[1;33m)\u001b[0m\u001b[1;33m\u001b[0m\u001b[1;33m\u001b[0m\u001b[0m\n\u001b[0m\u001b[0;32m     33\u001b[0m \u001b[1;33m\u001b[0m\u001b[0m\n",
      "\u001b[1;32m~\\Anaconda3\\lib\\site-packages\\matplotlib\\axes\\_axes.py\u001b[0m in \u001b[0;36mlegend\u001b[1;34m(self, *args, **kwargs)\u001b[0m\n\u001b[0;32m    418\u001b[0m                 \u001b[1;33m[\u001b[0m\u001b[0mself\u001b[0m\u001b[1;33m]\u001b[0m\u001b[1;33m,\u001b[0m\u001b[1;33m\u001b[0m\u001b[1;33m\u001b[0m\u001b[0m\n\u001b[0;32m    419\u001b[0m                 \u001b[1;33m*\u001b[0m\u001b[0margs\u001b[0m\u001b[1;33m,\u001b[0m\u001b[1;33m\u001b[0m\u001b[1;33m\u001b[0m\u001b[0m\n\u001b[1;32m--> 420\u001b[1;33m                 **kwargs)\n\u001b[0m\u001b[0;32m    421\u001b[0m         \u001b[1;32mif\u001b[0m \u001b[0mlen\u001b[0m\u001b[1;33m(\u001b[0m\u001b[0mextra_args\u001b[0m\u001b[1;33m)\u001b[0m\u001b[1;33m:\u001b[0m\u001b[1;33m\u001b[0m\u001b[1;33m\u001b[0m\u001b[0m\n\u001b[0;32m    422\u001b[0m             \u001b[1;32mraise\u001b[0m \u001b[0mTypeError\u001b[0m\u001b[1;33m(\u001b[0m\u001b[1;34m'legend only accepts two non-keyword arguments'\u001b[0m\u001b[1;33m)\u001b[0m\u001b[1;33m\u001b[0m\u001b[1;33m\u001b[0m\u001b[0m\n",
      "\u001b[1;32m~\\Anaconda3\\lib\\site-packages\\matplotlib\\legend.py\u001b[0m in \u001b[0;36m_parse_legend_args\u001b[1;34m(axs, handles, labels, *args, **kwargs)\u001b[0m\n\u001b[0;32m   1294\u001b[0m         \u001b[1;31m# Get as many handles as there are labels.\u001b[0m\u001b[1;33m\u001b[0m\u001b[1;33m\u001b[0m\u001b[1;33m\u001b[0m\u001b[0m\n\u001b[0;32m   1295\u001b[0m         handles = [handle for handle, label\n\u001b[1;32m-> 1296\u001b[1;33m                    in zip(_get_legend_handles(axs, handlers), labels)]\n\u001b[0m\u001b[0;32m   1297\u001b[0m \u001b[1;33m\u001b[0m\u001b[0m\n\u001b[0;32m   1298\u001b[0m     \u001b[1;31m# Two arguments:\u001b[0m\u001b[1;33m\u001b[0m\u001b[1;33m\u001b[0m\u001b[1;33m\u001b[0m\u001b[0m\n",
      "\u001b[1;31mTypeError\u001b[0m: zip argument #2 must support iteration"
     ]
    }
   ],
   "source": [
    "# Plot 1 & 2\n",
    "fig, ax =plt.subplots(2,1)\n",
    "X_AXIS = \"episode\"\n",
    "Y_AXIS_1 = \"agent_choice_of_x1\"\n",
    "Y_AXIS_2 = \"agent_final_cash_balance\"\n",
    "\n",
    "x_axis_data= df_wo_greedy[X_AXIS]\n",
    "y_1_axis_data = df_wo_greedy[Y_AXIS_1]\n",
    "y_2_axis_data = df_wo_greedy[Y_AXIS_2]\n",
    "\n",
    "MA_1 = 1\n",
    "\n",
    "ma_y_1_wo_greedy = y_1_axis_data.rolling(window=MA_1).mean()\n",
    "ma_y_2_wo_greedy = y_2_axis_data.rolling(window=MA_1).mean()\n",
    "\n",
    "\n",
    "\n",
    "df_MA_wo_greedy =pd.DataFrame({X_AXIS:x_axis_data, Y_AXIS_1:ma_y_1_wo_greedy, Y_AXIS_2:ma_y_2_wo_greedy})\n",
    "\n",
    "sns.lineplot(x=\"episode\", y=Y_AXIS_1, data=df_MA_wo_greedy, label=\"alpha=0.01\", ax=ax[0])\n",
    "sns.lineplot(x=\"episode\", y=Y_AXIS_2, data=df_MA_wo_greedy, label=\"alpha=0.01\".format(MA_1) , ax=ax[1])\n",
    "\n",
    "ax[0].set(title=\"Strategy choice progression\", xlabel=\"\", ylabel=\"x_1 choice\")\n",
    "ax[1].set(title=\"Final cash balance progression\", xlabel=\"Episode\", ylabel=\"y_2 final cash\")\n",
    "\n",
    "ax[0].axhline(2.5, ls='--', label=\"Analytical solution, alpha=0.01\", c=\"r\")\n",
    "ax[1].axhline(14.97, ls='--', label=\"Analytical solution, alpha=0.01\", c=\"r\")\n",
    "\n",
    "fig.subplots_adjust(right=0.82, bottom=0.05)\n",
    "\n",
    "ax[0].legend_.remove()\n",
    "ax[1].legend(plt.legend(bbox_to_anchor=(1.05, 1), loc=2, borderaxespad=0.))\n",
    "\n"
   ]
  },
  {
   "cell_type": "code",
   "execution_count": 9,
   "metadata": {},
   "outputs": [
    {
     "ename": "TypeError",
     "evalue": "zip argument #2 must support iteration",
     "output_type": "error",
     "traceback": [
      "\u001b[1;31m---------------------------------------------------------------------------\u001b[0m",
      "\u001b[1;31mTypeError\u001b[0m                                 Traceback (most recent call last)",
      "\u001b[1;32m<ipython-input-9-a1c3bc0f1087>\u001b[0m in \u001b[0;36m<module>\u001b[1;34m\u001b[0m\n\u001b[0;32m     27\u001b[0m \u001b[0mfig\u001b[0m\u001b[1;33m.\u001b[0m\u001b[0msubplots_adjust\u001b[0m\u001b[1;33m(\u001b[0m\u001b[0mright\u001b[0m\u001b[1;33m=\u001b[0m\u001b[1;36m0.82\u001b[0m\u001b[1;33m,\u001b[0m \u001b[0mbottom\u001b[0m\u001b[1;33m=\u001b[0m\u001b[1;36m0.05\u001b[0m\u001b[1;33m)\u001b[0m\u001b[1;33m\u001b[0m\u001b[1;33m\u001b[0m\u001b[0m\n\u001b[0;32m     28\u001b[0m \u001b[0max\u001b[0m\u001b[1;33m[\u001b[0m\u001b[1;36m1\u001b[0m\u001b[1;33m]\u001b[0m\u001b[1;33m.\u001b[0m\u001b[0mlegend_\u001b[0m\u001b[1;33m.\u001b[0m\u001b[0mremove\u001b[0m\u001b[1;33m(\u001b[0m\u001b[1;33m)\u001b[0m\u001b[1;33m\u001b[0m\u001b[1;33m\u001b[0m\u001b[0m\n\u001b[1;32m---> 29\u001b[1;33m \u001b[0max\u001b[0m\u001b[1;33m[\u001b[0m\u001b[1;36m0\u001b[0m\u001b[1;33m]\u001b[0m\u001b[1;33m.\u001b[0m\u001b[0mlegend\u001b[0m\u001b[1;33m(\u001b[0m\u001b[0mplt\u001b[0m\u001b[1;33m.\u001b[0m\u001b[0mlegend\u001b[0m\u001b[1;33m(\u001b[0m\u001b[0mbbox_to_anchor\u001b[0m\u001b[1;33m=\u001b[0m\u001b[1;33m(\u001b[0m\u001b[1;36m1.05\u001b[0m\u001b[1;33m,\u001b[0m \u001b[1;36m1\u001b[0m\u001b[1;33m)\u001b[0m\u001b[1;33m,\u001b[0m \u001b[0mloc\u001b[0m\u001b[1;33m=\u001b[0m\u001b[1;36m2\u001b[0m\u001b[1;33m,\u001b[0m \u001b[0mborderaxespad\u001b[0m\u001b[1;33m=\u001b[0m\u001b[1;36m0.\u001b[0m\u001b[1;33m)\u001b[0m\u001b[1;33m)\u001b[0m\u001b[1;33m\u001b[0m\u001b[1;33m\u001b[0m\u001b[0m\n\u001b[0m",
      "\u001b[1;32m~\\Anaconda3\\lib\\site-packages\\matplotlib\\axes\\_axes.py\u001b[0m in \u001b[0;36mlegend\u001b[1;34m(self, *args, **kwargs)\u001b[0m\n\u001b[0;32m    418\u001b[0m                 \u001b[1;33m[\u001b[0m\u001b[0mself\u001b[0m\u001b[1;33m]\u001b[0m\u001b[1;33m,\u001b[0m\u001b[1;33m\u001b[0m\u001b[1;33m\u001b[0m\u001b[0m\n\u001b[0;32m    419\u001b[0m                 \u001b[1;33m*\u001b[0m\u001b[0margs\u001b[0m\u001b[1;33m,\u001b[0m\u001b[1;33m\u001b[0m\u001b[1;33m\u001b[0m\u001b[0m\n\u001b[1;32m--> 420\u001b[1;33m                 **kwargs)\n\u001b[0m\u001b[0;32m    421\u001b[0m         \u001b[1;32mif\u001b[0m \u001b[0mlen\u001b[0m\u001b[1;33m(\u001b[0m\u001b[0mextra_args\u001b[0m\u001b[1;33m)\u001b[0m\u001b[1;33m:\u001b[0m\u001b[1;33m\u001b[0m\u001b[1;33m\u001b[0m\u001b[0m\n\u001b[0;32m    422\u001b[0m             \u001b[1;32mraise\u001b[0m \u001b[0mTypeError\u001b[0m\u001b[1;33m(\u001b[0m\u001b[1;34m'legend only accepts two non-keyword arguments'\u001b[0m\u001b[1;33m)\u001b[0m\u001b[1;33m\u001b[0m\u001b[1;33m\u001b[0m\u001b[0m\n",
      "\u001b[1;32m~\\Anaconda3\\lib\\site-packages\\matplotlib\\legend.py\u001b[0m in \u001b[0;36m_parse_legend_args\u001b[1;34m(axs, handles, labels, *args, **kwargs)\u001b[0m\n\u001b[0;32m   1294\u001b[0m         \u001b[1;31m# Get as many handles as there are labels.\u001b[0m\u001b[1;33m\u001b[0m\u001b[1;33m\u001b[0m\u001b[1;33m\u001b[0m\u001b[0m\n\u001b[0;32m   1295\u001b[0m         handles = [handle for handle, label\n\u001b[1;32m-> 1296\u001b[1;33m                    in zip(_get_legend_handles(axs, handlers), labels)]\n\u001b[0m\u001b[0;32m   1297\u001b[0m \u001b[1;33m\u001b[0m\u001b[0m\n\u001b[0;32m   1298\u001b[0m     \u001b[1;31m# Two arguments:\u001b[0m\u001b[1;33m\u001b[0m\u001b[1;33m\u001b[0m\u001b[1;33m\u001b[0m\u001b[0m\n",
      "\u001b[1;31mTypeError\u001b[0m: zip argument #2 must support iteration"
     ]
    }
   ],
   "source": [
    "# Plot 3 & 4\n",
    "fig, ax =plt.subplots(2,1)\n",
    "X_AXIS = \"episode\"\n",
    "Y_AXIS_1 = \"cumulative_liquidity_costs\"\n",
    "Y_AXIS_2 = \"agent_final_cash_balance\"\n",
    "\n",
    "x_axis_data= df_wo_greedy[X_AXIS]\n",
    "y_1_axis_data = df_wo_greedy[Y_AXIS_1]\n",
    "y_2_axis_data = df_wo_greedy[Y_AXIS_2]\n",
    "\n",
    "MA_1 = 250\n",
    "\n",
    "ma_y_1_wo_greedy = y_1_axis_data.rolling(window=MA_1).mean()\n",
    "ma_y_2_wo_greedy = y_2_axis_data.rolling(window=MA_1).std()\n",
    "\n",
    "\n",
    "\n",
    "df_MA_wo_greedy =pd.DataFrame({X_AXIS:x_axis_data, Y_AXIS_1:ma_y_1_wo_greedy, Y_AXIS_2:ma_y_2_wo_greedy})\n",
    "\n",
    "sns.lineplot(x=\"episode\", y=Y_AXIS_1, data=df_MA_wo_greedy, label=\"alpha=0.01\", ax=ax[0])\n",
    "sns.lineplot(x=\"episode\", y=Y_AXIS_2, data=df_MA_wo_greedy, label=\"alpha=0.01\".format(MA_1) , ax=ax[1])\n",
    "ax[0].axhline(-0.06, ls='--', label=\"Analytical solution, alpha=0.01\", c=\"r\")\n",
    "ax[1].axhline(0.5, ls='--', label=\"Analytical solution, alpha=0.01\", c=\"r\")\n",
    "\n",
    "ax[0].set(title=\"Cumulative liquidity costs progression\", xlabel=\"\", ylabel=\"Liqudity costs per episode\")\n",
    "ax[1].set(title=\"Rolling standard deviation of final cash balance\", xlabel=\"Episode\", ylabel=\"y_2 rolling standard deviation\")\n",
    "fig.subplots_adjust(right=0.82, bottom=0.05)\n",
    "ax[1].legend_.remove()\n",
    "ax[0].legend(plt.legend(bbox_to_anchor=(1.05, 1), loc=2, borderaxespad=0.))\n"
   ]
  },
  {
   "cell_type": "code",
   "execution_count": 10,
   "metadata": {},
   "outputs": [],
   "source": [
    "mean = df_wo_greedy[\"agent_final_cash_balance\"][-8000:].mean()\n",
    "std = df_wo_greedy[\"agent_final_cash_balance\"][-8000:].std()"
   ]
  },
  {
   "cell_type": "code",
   "execution_count": 11,
   "metadata": {},
   "outputs": [
    {
     "name": "stdout",
     "output_type": "stream",
     "text": [
      "11.89837769472599 0.4287829393059271\n"
     ]
    }
   ],
   "source": [
    "print(mean, std)"
   ]
  },
  {
   "cell_type": "code",
   "execution_count": 12,
   "metadata": {},
   "outputs": [
    {
     "data": {
      "text/plain": [
       "3.1004449928700923"
      ]
     },
     "execution_count": 12,
     "metadata": {},
     "output_type": "execute_result"
    }
   ],
   "source": [
    "df_wo_greedy[\"agent_choice_of_x1\"][-8000:].mean()"
   ]
  },
  {
   "cell_type": "code",
   "execution_count": 13,
   "metadata": {},
   "outputs": [
    {
     "data": {
      "text/plain": [
       "-4.0267488766195125"
      ]
     },
     "execution_count": 13,
     "metadata": {},
     "output_type": "execute_result"
    }
   ],
   "source": [
    "df_wo_greedy[\"cumulative_liquidity_costs\"][-8000:].mean()"
   ]
  },
  {
   "cell_type": "code",
   "execution_count": null,
   "metadata": {},
   "outputs": [],
   "source": []
  }
 ],
 "metadata": {
  "file_extension": ".py",
  "kernelspec": {
   "display_name": "Python 3",
   "language": "python",
   "name": "python3"
  },
  "language_info": {
   "codemirror_mode": {
    "name": "ipython",
    "version": 3
   },
   "file_extension": ".py",
   "mimetype": "text/x-python",
   "name": "python",
   "nbconvert_exporter": "python",
   "pygments_lexer": "ipython3",
   "version": "3.7.3"
  },
  "mimetype": "text/x-python",
  "name": "python",
  "npconvert_exporter": "python",
  "pygments_lexer": "ipython3",
  "version": 3
 },
 "nbformat": 4,
 "nbformat_minor": 2
}
