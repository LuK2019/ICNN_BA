{
 "cells": [
  {
   "cell_type": "code",
   "execution_count": 1,
   "metadata": {},
   "outputs": [],
   "source": [
    "%matplotlib qt\n",
    "\n",
    "import numpy as np \n",
    "import pandas as pd \n",
    "import matplotlib.pyplot as plt     \n",
    "import matplotlib\n",
    "import tensorflow as tf\n",
    "import seaborn as sns\n",
    "\n",
    "from core.simulation.validation import Gamma\n",
    "from core.simulation.game import Phi\n",
    "\n",
    "\n",
    "matplotlib.rcParams['figure.figsize'] = [20, 10]\n",
    "sns.set(style=\"white\")\n"
   ]
  },
  {
   "cell_type": "code",
   "execution_count": 2,
   "metadata": {},
   "outputs": [],
   "source": [
    "# Import Data Frame\n",
    "\n",
    "# Specify path\n",
    "LOG_NUM =  6\n",
    "PATH_TO_DF = r\"C:\\Users\\lukas\\OneDrive\\Universität\\Mathematik\\Bachelorarbeit\\log_dir\\log_{}\\SIMULATION_SUMMARY\\simulation_summary_log_{}.pkl\".format(LOG_NUM, LOG_NUM)\n",
    "PATH_TO_MODEL = r\"C:\\Users\\lukas\\OneDrive\\Universität\\Mathematik\\Bachelorarbeit\\log_dir\\log_{}\\WEIGHTS\\1\".format(\n",
    "    LOG_NUM\n",
    ")\n",
    "\n",
    "# Load data, calculate accuracy, remove greedy choices\n",
    "df = pd.read_pickle(PATH_TO_DF)\n",
    "df[\"difference_between_optimal_agent\"] =df[\"optimal_final_cash_balance\"]-df[\"agent_final_cash_balance\"]\n",
    "df_wo_greedy = df[df[\"greedy\"]==0]"
   ]
  },
  {
   "cell_type": "code",
   "execution_count": 3,
   "metadata": {},
   "outputs": [
    {
     "data": {
      "text/html": [
       "<div>\n",
       "<style scoped>\n",
       "    .dataframe tbody tr th:only-of-type {\n",
       "        vertical-align: middle;\n",
       "    }\n",
       "\n",
       "    .dataframe tbody tr th {\n",
       "        vertical-align: top;\n",
       "    }\n",
       "\n",
       "    .dataframe thead th {\n",
       "        text-align: right;\n",
       "    }\n",
       "</style>\n",
       "<table border=\"1\" class=\"dataframe\">\n",
       "  <thead>\n",
       "    <tr style=\"text-align: right;\">\n",
       "      <th></th>\n",
       "      <th>agent_choice_of_x1</th>\n",
       "      <th>agent_final_cash_balance</th>\n",
       "      <th>cumulative_liquidity_costs</th>\n",
       "      <th>episode</th>\n",
       "      <th>greedy</th>\n",
       "      <th>initial_state</th>\n",
       "      <th>optimal_choice_of_x1</th>\n",
       "      <th>optimal_final_cash_balance</th>\n",
       "      <th>difference_between_optimal_agent</th>\n",
       "    </tr>\n",
       "  </thead>\n",
       "  <tbody>\n",
       "    <tr>\n",
       "      <th>4995</th>\n",
       "      <td>0.410556</td>\n",
       "      <td>6.826461</td>\n",
       "      <td>-0.010654</td>\n",
       "      <td>4995</td>\n",
       "      <td>1</td>\n",
       "      <td>[[1.0], [1.0], [1.0], [0.0]]</td>\n",
       "      <td>NaN</td>\n",
       "      <td>NaN</td>\n",
       "      <td>NaN</td>\n",
       "    </tr>\n",
       "    <tr>\n",
       "      <th>4996</th>\n",
       "      <td>0.441901</td>\n",
       "      <td>11.222016</td>\n",
       "      <td>-0.025039</td>\n",
       "      <td>4996</td>\n",
       "      <td>0</td>\n",
       "      <td>[[1.0], [1.0], [1.0], [0.0]]</td>\n",
       "      <td>NaN</td>\n",
       "      <td>NaN</td>\n",
       "      <td>NaN</td>\n",
       "    </tr>\n",
       "    <tr>\n",
       "      <th>4997</th>\n",
       "      <td>0.431346</td>\n",
       "      <td>5.167336</td>\n",
       "      <td>-0.009078</td>\n",
       "      <td>4997</td>\n",
       "      <td>0</td>\n",
       "      <td>[[1.0], [1.0], [1.0], [0.0]]</td>\n",
       "      <td>NaN</td>\n",
       "      <td>NaN</td>\n",
       "      <td>NaN</td>\n",
       "    </tr>\n",
       "    <tr>\n",
       "      <th>4998</th>\n",
       "      <td>0.243401</td>\n",
       "      <td>6.676178</td>\n",
       "      <td>-0.017626</td>\n",
       "      <td>4998</td>\n",
       "      <td>1</td>\n",
       "      <td>[[1.0], [1.0], [1.0], [0.0]]</td>\n",
       "      <td>NaN</td>\n",
       "      <td>NaN</td>\n",
       "      <td>NaN</td>\n",
       "    </tr>\n",
       "    <tr>\n",
       "      <th>4999</th>\n",
       "      <td>0.292115</td>\n",
       "      <td>8.192588</td>\n",
       "      <td>-0.008177</td>\n",
       "      <td>4999</td>\n",
       "      <td>1</td>\n",
       "      <td>[[1.0], [1.0], [1.0], [0.0]]</td>\n",
       "      <td>NaN</td>\n",
       "      <td>NaN</td>\n",
       "      <td>NaN</td>\n",
       "    </tr>\n",
       "  </tbody>\n",
       "</table>\n",
       "</div>"
      ],
      "text/plain": [
       "      agent_choice_of_x1  agent_final_cash_balance  \\\n",
       "4995            0.410556                  6.826461   \n",
       "4996            0.441901                 11.222016   \n",
       "4997            0.431346                  5.167336   \n",
       "4998            0.243401                  6.676178   \n",
       "4999            0.292115                  8.192588   \n",
       "\n",
       "      cumulative_liquidity_costs episode greedy                 initial_state  \\\n",
       "4995                   -0.010654    4995      1  [[1.0], [1.0], [1.0], [0.0]]   \n",
       "4996                   -0.025039    4996      0  [[1.0], [1.0], [1.0], [0.0]]   \n",
       "4997                   -0.009078    4997      0  [[1.0], [1.0], [1.0], [0.0]]   \n",
       "4998                   -0.017626    4998      1  [[1.0], [1.0], [1.0], [0.0]]   \n",
       "4999                   -0.008177    4999      1  [[1.0], [1.0], [1.0], [0.0]]   \n",
       "\n",
       "     optimal_choice_of_x1 optimal_final_cash_balance  \\\n",
       "4995                  NaN                        NaN   \n",
       "4996                  NaN                        NaN   \n",
       "4997                  NaN                        NaN   \n",
       "4998                  NaN                        NaN   \n",
       "4999                  NaN                        NaN   \n",
       "\n",
       "     difference_between_optimal_agent  \n",
       "4995                              NaN  \n",
       "4996                              NaN  \n",
       "4997                              NaN  \n",
       "4998                              NaN  \n",
       "4999                              NaN  "
      ]
     },
     "execution_count": 3,
     "metadata": {},
     "output_type": "execute_result"
    }
   ],
   "source": [
    "# Inspect the simulation results\n",
    "df.tail()"
   ]
  },
  {
   "cell_type": "code",
   "execution_count": 5,
   "metadata": {},
   "outputs": [
    {
     "name": "stdout",
     "output_type": "stream",
     "text": [
      "Expected value of distribution 1.3, Volatility of distribution 0.08333333333333333\n"
     ]
    }
   ],
   "source": [
    "# Metadata: alpha\n",
    "\n",
    "alpha = 0.1\n",
    "lower_bound=0.8\n",
    "upper_bound=1.8\n",
    "def get_mu_vola(lower_bound, upper_bound):\n",
    "    mu = (lower_bound + upper_bound)/2 \n",
    "    vola = (1/12)*(upper_bound - lower_bound)**2 \n",
    "    return mu, vola\n",
    "\n",
    "mu, vola = get_mu_vola(lower_bound, upper_bound)\n",
    "\n",
    "print(f\"Expected value of distribution {mu}, Volatility of distribution {vola}\")"
   ]
  },
  {
   "cell_type": "code",
   "execution_count": 6,
   "metadata": {},
   "outputs": [
    {
     "name": "stdout",
     "output_type": "stream",
     "text": [
      "Initial state:\n",
      " [[ 5.]\n",
      " [10.]\n",
      " [ 1.]\n",
      " [ 0.]],\n",
      " The optimal choice of x1: 3.811821322337455,\n",
      " The expected return of optimal strategy: 15.24060972188039,\n",
      " The volatitlity of optimal strategy: 0.8371258455171295\n"
     ]
    }
   ],
   "source": [
    "# Calculate optimal choices \n",
    "\n",
    "initial_state = df.loc[0,\"initial_state\"]\n",
    "\n",
    "def get_gamma_val(initial_state, alpha):\n",
    "    x, y, S, t = initial_state[:, 0]\n",
    "    return np.log((y * alpha) / (S) + 1) * (1 / alpha) + x\n",
    "\n",
    "def get_optimal_x1(initial_state, alpha, mu, gamma_val):\n",
    "    x,y,S,t = initial_state[:,0]\n",
    "    x_star = (np.log(mu) + x * alpha) / (2 * alpha)\n",
    "    if x_star < 0:\n",
    "        return 0\n",
    "    if (0 <= x_star) & (x_star <= gamma_val):\n",
    "        return x_star\n",
    "    else:\n",
    "        return gamma_val\n",
    "    \n",
    "def max_return_optimal(initial_state, optimal_x1, mu, alpha):\n",
    "    x,y,S,t = initial_state[:,0]\n",
    "    return y-Phi(optimal_x1-x,alpha)*S - Phi(-optimal_x1,alpha)*S*mu\n",
    "\n",
    "\n",
    "def optimal_vola(initial_state, optimal_x1, vola,alpha):\n",
    "    x,y,S,t = initial_state[:,0]\n",
    "    return (Phi(-optimal_x1,alpha)**2)*(S**2)*vola\n",
    "\n",
    "gamma_val = get_gamma_val(initial_state, alpha)\n",
    "optimal_x1 = get_optimal_x1(initial_state, alpha, mu, gamma_val)\n",
    "return_optimal = max_return_optimal(initial_state, optimal_x1, mu,alpha)\n",
    "vola_optimal = optimal_vola(initial_state, optimal_x1, vola,alpha)\n",
    "\n",
    "print(f\"Initial state:\\n {initial_state},\\n The optimal choice of x1: {optimal_x1},\\n The expected return of optimal strategy: {return_optimal},\\n The volatitlity of optimal strategy: {vola_optimal}\")"
   ]
  },
  {
   "cell_type": "code",
   "execution_count": 4,
   "metadata": {},
   "outputs": [
    {
     "data": {
      "text/plain": [
       "<matplotlib.axes._subplots.AxesSubplot at 0x208e8f12b00>"
      ]
     },
     "execution_count": 4,
     "metadata": {},
     "output_type": "execute_result"
    }
   ],
   "source": [
    "# Plot the responses for different events and regions\n",
    "sns.lineplot(x=\"episode\", y=\"agent_choice_of_x1\",hue=\"greedy\",\n",
    "             data=df)"
   ]
  },
  {
   "cell_type": "code",
   "execution_count": 7,
   "metadata": {},
   "outputs": [
    {
     "name": "stderr",
     "output_type": "stream",
     "text": [
      "C:\\Users\\lukas\\Anaconda3\\lib\\site-packages\\matplotlib\\cbook\\__init__.py:1725: UserWarning: Saw kwargs ['c', 'color'] which are all aliases for 'color'.  Kept value from 'color'\n",
      "  seen=seen, canon=canonical, used=seen[-1]))\n",
      "C:\\Users\\lukas\\Anaconda3\\lib\\site-packages\\matplotlib\\cbook\\__init__.py:1725: UserWarning: Saw kwargs ['c', 'color'] which are all aliases for 'color'.  Kept value from 'color'\n",
      "  seen=seen, canon=canonical, used=seen[-1]))\n"
     ]
    },
    {
     "data": {
      "text/plain": [
       "Text(0, 0.5, 'agent_choice_of_x1')"
      ]
     },
     "execution_count": 7,
     "metadata": {},
     "output_type": "execute_result"
    }
   ],
   "source": [
    "# Mooving average plot 1\n",
    "\n",
    "X_AXIS = \"episode\"\n",
    "Y_AXIS = \"agent_choice_of_x1\"\n",
    "\n",
    "x_axis_data= df_wo_greedy[X_AXIS]\n",
    "y_axis_data = df_wo_greedy[Y_AXIS]\n",
    "\n",
    "MA_1 = 250\n",
    "MA_2 = 1500\n",
    "MA_3 = 3000\n",
    "\n",
    "MA_1_wo_greedy = y_axis_data.rolling(window=MA_1).mean()\n",
    "MA_2_wo_greedy = y_axis_data.rolling(window=MA_2).mean()\n",
    "MA_3_wo_greedy = y_axis_data.rolling(window=MA_3).mean()\n",
    "\n",
    "\n",
    "df_MA_wo_greedy =pd.DataFrame({X_AXIS:x_axis_data, Y_AXIS:y_axis_data, \"MA_1\":MA_1_wo_greedy, \"MA_2\":MA_2_wo_greedy, \"MA_3\":MA_3_wo_greedy})\n",
    "sns.lineplot(x=\"episode\", y=Y_AXIS, data=df_MA_wo_greedy, label=\"original series\", alpha=0.5)\n",
    "sns.lineplot(x=\"episode\", y=\"MA_1\", data=df_MA_wo_greedy, label=\"MA Factor: {}\".format(MA_1))\n",
    "sns.lineplot(x=\"episode\", y=\"MA_2\", data=df_MA_wo_greedy,label=\"MA Factor: {}\".format(MA_2), c='r')\n",
    "# sns.lineplot(x=\"episode\", y=\"MA_3\", data=df_MA_wo_greedy,label=\"MA Factor: {}\".format(MA_3))\n",
    "plt.title(Y_AXIS + \" progression during training\")\n",
    "plt.xlabel(X_AXIS)\n",
    "plt.ylabel(Y_AXIS)"
   ]
  },
  {
   "cell_type": "code",
   "execution_count": 16,
   "metadata": {},
   "outputs": [
    {
     "data": {
      "text/plain": [
       "Text(0.5, 0, 'episode')"
      ]
     },
     "execution_count": 16,
     "metadata": {},
     "output_type": "execute_result"
    }
   ],
   "source": [
    "# Mooving average plot 1\n",
    "\n",
    "X_AXIS = \"episode\"\n",
    "Y_AXIS_1 = \"cumulative_liquidity_costs\"\n",
    "Y_AXIS_2 = \"agent_choice_of_x1\"\n",
    "Y_AXIS_3 = \"agent_final_cash_balance\"\n",
    "\n",
    "x_axis_data= df_wo_greedy[X_AXIS]\n",
    "y_1_axis_data = df_wo_greedy[Y_AXIS_1]\n",
    "y_2_axis_data = df_wo_greedy[Y_AXIS_2]\n",
    "y_3_axis_data = df_wo_greedy[Y_AXIS_3]\n",
    "\n",
    "\n",
    "MA_1 = 250\n",
    "MA_2 = 250\n",
    "\n",
    "\n",
    "ma_y_1_wo_greedy = y_1_axis_data.rolling(window=MA_1).mean()\n",
    "ma_y_2_wo_greedy = y_2_axis_data.rolling(window=MA_1).mean()\n",
    "ma_y_3_wo_greedy = y_3_axis_data.rolling(window=MA_2).mean()\n",
    "\n",
    "\n",
    "\n",
    "df_MA_wo_greedy =pd.DataFrame({X_AXIS:x_axis_data, Y_AXIS_1:ma_y_1_wo_greedy, Y_AXIS_2:ma_y_2_wo_greedy, Y_AXIS_3:ma_y_3_wo_greedy})\n",
    "\n",
    "\n",
    "sns.lineplot(x=\"episode\", y=Y_AXIS_1, data=df_MA_wo_greedy, label=\"MA Factor: {}\".format(MA_1) + Y_AXIS_1)\n",
    "sns.lineplot(x=\"episode\", y=Y_AXIS_2, data=df_MA_wo_greedy, label=\"MA Factor: {}\".format(MA_1) + Y_AXIS_2)\n",
    "sns.lineplot(x=\"episode\", y=Y_AXIS_3, data=df_MA_wo_greedy, label=\"MA Factor: {}\".format(MA_2) + Y_AXIS_3)\n",
    "\n",
    "plt.title(Y_AXIS_1 + \" and \"+ Y_AXIS_2 +\" and \"+  Y_AXIS_3 + \" progression during training\")\n",
    "plt.xlabel(X_AXIS)"
   ]
  },
  {
   "cell_type": "code",
   "execution_count": 8,
   "metadata": {},
   "outputs": [
    {
     "data": {
      "text/plain": [
       "Text(0.5, 0, 'episode')"
      ]
     },
     "execution_count": 8,
     "metadata": {},
     "output_type": "execute_result"
    }
   ],
   "source": [
    "# Final cash balance rolling volatility\n",
    "X_AXIS = \"episode\"\n",
    "Y_AXIS_1 = \"agent_final_cash_balance\"\n",
    "\n",
    "x_axis_data= df_wo_greedy[X_AXIS]\n",
    "y_1_axis_data = df_wo_greedy[Y_AXIS_1]\n",
    "\n",
    "MA_1 = 250\n",
    "\n",
    "ma_y_1_wo_greedy = y_1_axis_data.rolling(window=MA_1).std()\n",
    "df_MA_wo_greedy =pd.DataFrame({X_AXIS:x_axis_data, Y_AXIS_1:ma_y_1_wo_greedy})\n",
    "\n",
    "\n",
    "sns.lineplot(x=\"episode\", y=Y_AXIS_1, data=df_MA_wo_greedy, label=\"Window size: {}\".format(MA_1) + \" of \" + Y_AXIS_1)\n",
    "\n",
    "plt.title(Y_AXIS_1 + \" rolling std {} during training\".format(MA_1))\n",
    "plt.xlabel(X_AXIS)"
   ]
  },
  {
   "cell_type": "code",
   "execution_count": 8,
   "metadata": {},
   "outputs": [
    {
     "ename": "TypeError",
     "evalue": "zip argument #2 must support iteration",
     "output_type": "error",
     "traceback": [
      "\u001b[1;31m---------------------------------------------------------------------------\u001b[0m",
      "\u001b[1;31mTypeError\u001b[0m                                 Traceback (most recent call last)",
      "\u001b[1;32m<ipython-input-8-ba942d05d59a>\u001b[0m in \u001b[0;36m<module>\u001b[1;34m\u001b[0m\n\u001b[0;32m     30\u001b[0m \u001b[1;33m\u001b[0m\u001b[0m\n\u001b[0;32m     31\u001b[0m \u001b[0max\u001b[0m\u001b[1;33m[\u001b[0m\u001b[1;36m0\u001b[0m\u001b[1;33m]\u001b[0m\u001b[1;33m.\u001b[0m\u001b[0mlegend_\u001b[0m\u001b[1;33m.\u001b[0m\u001b[0mremove\u001b[0m\u001b[1;33m(\u001b[0m\u001b[1;33m)\u001b[0m\u001b[1;33m\u001b[0m\u001b[1;33m\u001b[0m\u001b[0m\n\u001b[1;32m---> 32\u001b[1;33m \u001b[0max\u001b[0m\u001b[1;33m[\u001b[0m\u001b[1;36m1\u001b[0m\u001b[1;33m]\u001b[0m\u001b[1;33m.\u001b[0m\u001b[0mlegend\u001b[0m\u001b[1;33m(\u001b[0m\u001b[0mplt\u001b[0m\u001b[1;33m.\u001b[0m\u001b[0mlegend\u001b[0m\u001b[1;33m(\u001b[0m\u001b[0mbbox_to_anchor\u001b[0m\u001b[1;33m=\u001b[0m\u001b[1;33m(\u001b[0m\u001b[1;36m1.05\u001b[0m\u001b[1;33m,\u001b[0m \u001b[1;36m1\u001b[0m\u001b[1;33m)\u001b[0m\u001b[1;33m,\u001b[0m \u001b[0mloc\u001b[0m\u001b[1;33m=\u001b[0m\u001b[1;36m2\u001b[0m\u001b[1;33m,\u001b[0m \u001b[0mborderaxespad\u001b[0m\u001b[1;33m=\u001b[0m\u001b[1;36m0.\u001b[0m\u001b[1;33m)\u001b[0m\u001b[1;33m)\u001b[0m\u001b[1;33m\u001b[0m\u001b[1;33m\u001b[0m\u001b[0m\n\u001b[0m\u001b[0;32m     33\u001b[0m \u001b[1;33m\u001b[0m\u001b[0m\n",
      "\u001b[1;32m~\\Anaconda3\\lib\\site-packages\\matplotlib\\axes\\_axes.py\u001b[0m in \u001b[0;36mlegend\u001b[1;34m(self, *args, **kwargs)\u001b[0m\n\u001b[0;32m    418\u001b[0m                 \u001b[1;33m[\u001b[0m\u001b[0mself\u001b[0m\u001b[1;33m]\u001b[0m\u001b[1;33m,\u001b[0m\u001b[1;33m\u001b[0m\u001b[1;33m\u001b[0m\u001b[0m\n\u001b[0;32m    419\u001b[0m                 \u001b[1;33m*\u001b[0m\u001b[0margs\u001b[0m\u001b[1;33m,\u001b[0m\u001b[1;33m\u001b[0m\u001b[1;33m\u001b[0m\u001b[0m\n\u001b[1;32m--> 420\u001b[1;33m                 **kwargs)\n\u001b[0m\u001b[0;32m    421\u001b[0m         \u001b[1;32mif\u001b[0m \u001b[0mlen\u001b[0m\u001b[1;33m(\u001b[0m\u001b[0mextra_args\u001b[0m\u001b[1;33m)\u001b[0m\u001b[1;33m:\u001b[0m\u001b[1;33m\u001b[0m\u001b[1;33m\u001b[0m\u001b[0m\n\u001b[0;32m    422\u001b[0m             \u001b[1;32mraise\u001b[0m \u001b[0mTypeError\u001b[0m\u001b[1;33m(\u001b[0m\u001b[1;34m'legend only accepts two non-keyword arguments'\u001b[0m\u001b[1;33m)\u001b[0m\u001b[1;33m\u001b[0m\u001b[1;33m\u001b[0m\u001b[0m\n",
      "\u001b[1;32m~\\Anaconda3\\lib\\site-packages\\matplotlib\\legend.py\u001b[0m in \u001b[0;36m_parse_legend_args\u001b[1;34m(axs, handles, labels, *args, **kwargs)\u001b[0m\n\u001b[0;32m   1294\u001b[0m         \u001b[1;31m# Get as many handles as there are labels.\u001b[0m\u001b[1;33m\u001b[0m\u001b[1;33m\u001b[0m\u001b[1;33m\u001b[0m\u001b[0m\n\u001b[0;32m   1295\u001b[0m         handles = [handle for handle, label\n\u001b[1;32m-> 1296\u001b[1;33m                    in zip(_get_legend_handles(axs, handlers), labels)]\n\u001b[0m\u001b[0;32m   1297\u001b[0m \u001b[1;33m\u001b[0m\u001b[0m\n\u001b[0;32m   1298\u001b[0m     \u001b[1;31m# Two arguments:\u001b[0m\u001b[1;33m\u001b[0m\u001b[1;33m\u001b[0m\u001b[1;33m\u001b[0m\u001b[0m\n",
      "\u001b[1;31mTypeError\u001b[0m: zip argument #2 must support iteration"
     ]
    }
   ],
   "source": [
    "# Plot 1 & 2\n",
    "fig, ax =plt.subplots(2,1)\n",
    "X_AXIS = \"episode\"\n",
    "Y_AXIS_1 = \"agent_choice_of_x1\"\n",
    "Y_AXIS_2 = \"agent_final_cash_balance\"\n",
    "\n",
    "x_axis_data= df_wo_greedy[X_AXIS]\n",
    "y_1_axis_data = df_wo_greedy[Y_AXIS_1]\n",
    "y_2_axis_data = df_wo_greedy[Y_AXIS_2]\n",
    "\n",
    "MA_1 = 1\n",
    "\n",
    "ma_y_1_wo_greedy = y_1_axis_data.rolling(window=MA_1).mean()\n",
    "ma_y_2_wo_greedy = y_2_axis_data.rolling(window=MA_1).mean()\n",
    "\n",
    "\n",
    "\n",
    "df_MA_wo_greedy =pd.DataFrame({X_AXIS:x_axis_data, Y_AXIS_1:ma_y_1_wo_greedy, Y_AXIS_2:ma_y_2_wo_greedy})\n",
    "\n",
    "sns.lineplot(x=\"episode\", y=Y_AXIS_1, data=df_MA_wo_greedy, label=\"alpha=0.01\", ax=ax[0])\n",
    "sns.lineplot(x=\"episode\", y=Y_AXIS_2, data=df_MA_wo_greedy, label=\"alpha=0.01\".format(MA_1) , ax=ax[1])\n",
    "\n",
    "ax[0].set(title=\"Strategy choice progression\", xlabel=\"\", ylabel=\"x_1 choice\")\n",
    "ax[1].set(title=\"Final cash balance progression\", xlabel=\"Episode\", ylabel=\"y_2 final cash\")\n",
    "\n",
    "ax[0].axhline(2.5, ls='--', label=\"Analytical solution, alpha=0.01\", c=\"r\")\n",
    "ax[1].axhline(14.97, ls='--', label=\"Analytical solution, alpha=0.01\", c=\"r\")\n",
    "\n",
    "fig.subplots_adjust(right=0.82, bottom=0.05)\n",
    "\n",
    "ax[0].legend_.remove()\n",
    "ax[1].legend(plt.legend(bbox_to_anchor=(1.05, 1), loc=2, borderaxespad=0.))\n",
    "\n"
   ]
  },
  {
   "cell_type": "code",
   "execution_count": 9,
   "metadata": {},
   "outputs": [
    {
     "ename": "TypeError",
     "evalue": "zip argument #2 must support iteration",
     "output_type": "error",
     "traceback": [
      "\u001b[1;31m---------------------------------------------------------------------------\u001b[0m",
      "\u001b[1;31mTypeError\u001b[0m                                 Traceback (most recent call last)",
      "\u001b[1;32m<ipython-input-9-a1c3bc0f1087>\u001b[0m in \u001b[0;36m<module>\u001b[1;34m\u001b[0m\n\u001b[0;32m     27\u001b[0m \u001b[0mfig\u001b[0m\u001b[1;33m.\u001b[0m\u001b[0msubplots_adjust\u001b[0m\u001b[1;33m(\u001b[0m\u001b[0mright\u001b[0m\u001b[1;33m=\u001b[0m\u001b[1;36m0.82\u001b[0m\u001b[1;33m,\u001b[0m \u001b[0mbottom\u001b[0m\u001b[1;33m=\u001b[0m\u001b[1;36m0.05\u001b[0m\u001b[1;33m)\u001b[0m\u001b[1;33m\u001b[0m\u001b[1;33m\u001b[0m\u001b[0m\n\u001b[0;32m     28\u001b[0m \u001b[0max\u001b[0m\u001b[1;33m[\u001b[0m\u001b[1;36m1\u001b[0m\u001b[1;33m]\u001b[0m\u001b[1;33m.\u001b[0m\u001b[0mlegend_\u001b[0m\u001b[1;33m.\u001b[0m\u001b[0mremove\u001b[0m\u001b[1;33m(\u001b[0m\u001b[1;33m)\u001b[0m\u001b[1;33m\u001b[0m\u001b[1;33m\u001b[0m\u001b[0m\n\u001b[1;32m---> 29\u001b[1;33m \u001b[0max\u001b[0m\u001b[1;33m[\u001b[0m\u001b[1;36m0\u001b[0m\u001b[1;33m]\u001b[0m\u001b[1;33m.\u001b[0m\u001b[0mlegend\u001b[0m\u001b[1;33m(\u001b[0m\u001b[0mplt\u001b[0m\u001b[1;33m.\u001b[0m\u001b[0mlegend\u001b[0m\u001b[1;33m(\u001b[0m\u001b[0mbbox_to_anchor\u001b[0m\u001b[1;33m=\u001b[0m\u001b[1;33m(\u001b[0m\u001b[1;36m1.05\u001b[0m\u001b[1;33m,\u001b[0m \u001b[1;36m1\u001b[0m\u001b[1;33m)\u001b[0m\u001b[1;33m,\u001b[0m \u001b[0mloc\u001b[0m\u001b[1;33m=\u001b[0m\u001b[1;36m2\u001b[0m\u001b[1;33m,\u001b[0m \u001b[0mborderaxespad\u001b[0m\u001b[1;33m=\u001b[0m\u001b[1;36m0.\u001b[0m\u001b[1;33m)\u001b[0m\u001b[1;33m)\u001b[0m\u001b[1;33m\u001b[0m\u001b[1;33m\u001b[0m\u001b[0m\n\u001b[0m",
      "\u001b[1;32m~\\Anaconda3\\lib\\site-packages\\matplotlib\\axes\\_axes.py\u001b[0m in \u001b[0;36mlegend\u001b[1;34m(self, *args, **kwargs)\u001b[0m\n\u001b[0;32m    418\u001b[0m                 \u001b[1;33m[\u001b[0m\u001b[0mself\u001b[0m\u001b[1;33m]\u001b[0m\u001b[1;33m,\u001b[0m\u001b[1;33m\u001b[0m\u001b[1;33m\u001b[0m\u001b[0m\n\u001b[0;32m    419\u001b[0m                 \u001b[1;33m*\u001b[0m\u001b[0margs\u001b[0m\u001b[1;33m,\u001b[0m\u001b[1;33m\u001b[0m\u001b[1;33m\u001b[0m\u001b[0m\n\u001b[1;32m--> 420\u001b[1;33m                 **kwargs)\n\u001b[0m\u001b[0;32m    421\u001b[0m         \u001b[1;32mif\u001b[0m \u001b[0mlen\u001b[0m\u001b[1;33m(\u001b[0m\u001b[0mextra_args\u001b[0m\u001b[1;33m)\u001b[0m\u001b[1;33m:\u001b[0m\u001b[1;33m\u001b[0m\u001b[1;33m\u001b[0m\u001b[0m\n\u001b[0;32m    422\u001b[0m             \u001b[1;32mraise\u001b[0m \u001b[0mTypeError\u001b[0m\u001b[1;33m(\u001b[0m\u001b[1;34m'legend only accepts two non-keyword arguments'\u001b[0m\u001b[1;33m)\u001b[0m\u001b[1;33m\u001b[0m\u001b[1;33m\u001b[0m\u001b[0m\n",
      "\u001b[1;32m~\\Anaconda3\\lib\\site-packages\\matplotlib\\legend.py\u001b[0m in \u001b[0;36m_parse_legend_args\u001b[1;34m(axs, handles, labels, *args, **kwargs)\u001b[0m\n\u001b[0;32m   1294\u001b[0m         \u001b[1;31m# Get as many handles as there are labels.\u001b[0m\u001b[1;33m\u001b[0m\u001b[1;33m\u001b[0m\u001b[1;33m\u001b[0m\u001b[0m\n\u001b[0;32m   1295\u001b[0m         handles = [handle for handle, label\n\u001b[1;32m-> 1296\u001b[1;33m                    in zip(_get_legend_handles(axs, handlers), labels)]\n\u001b[0m\u001b[0;32m   1297\u001b[0m \u001b[1;33m\u001b[0m\u001b[0m\n\u001b[0;32m   1298\u001b[0m     \u001b[1;31m# Two arguments:\u001b[0m\u001b[1;33m\u001b[0m\u001b[1;33m\u001b[0m\u001b[1;33m\u001b[0m\u001b[0m\n",
      "\u001b[1;31mTypeError\u001b[0m: zip argument #2 must support iteration"
     ]
    }
   ],
   "source": [
    "# Plot 3 & 4\n",
    "fig, ax =plt.subplots(2,1)\n",
    "X_AXIS = \"episode\"\n",
    "Y_AXIS_1 = \"cumulative_liquidity_costs\"\n",
    "Y_AXIS_2 = \"agent_final_cash_balance\"\n",
    "\n",
    "x_axis_data= df_wo_greedy[X_AXIS]\n",
    "y_1_axis_data = df_wo_greedy[Y_AXIS_1]\n",
    "y_2_axis_data = df_wo_greedy[Y_AXIS_2]\n",
    "\n",
    "MA_1 = 250\n",
    "\n",
    "ma_y_1_wo_greedy = y_1_axis_data.rolling(window=MA_1).mean()\n",
    "ma_y_2_wo_greedy = y_2_axis_data.rolling(window=MA_1).std()\n",
    "\n",
    "\n",
    "\n",
    "df_MA_wo_greedy =pd.DataFrame({X_AXIS:x_axis_data, Y_AXIS_1:ma_y_1_wo_greedy, Y_AXIS_2:ma_y_2_wo_greedy})\n",
    "\n",
    "sns.lineplot(x=\"episode\", y=Y_AXIS_1, data=df_MA_wo_greedy, label=\"alpha=0.01\", ax=ax[0])\n",
    "sns.lineplot(x=\"episode\", y=Y_AXIS_2, data=df_MA_wo_greedy, label=\"alpha=0.01\".format(MA_1) , ax=ax[1])\n",
    "ax[0].axhline(-0.06, ls='--', label=\"Analytical solution, alpha=0.01\", c=\"r\")\n",
    "ax[1].axhline(0.5, ls='--', label=\"Analytical solution, alpha=0.01\", c=\"r\")\n",
    "\n",
    "ax[0].set(title=\"Cumulative liquidity costs progression\", xlabel=\"\", ylabel=\"Liqudity costs per episode\")\n",
    "ax[1].set(title=\"Rolling standard deviation of final cash balance\", xlabel=\"Episode\", ylabel=\"y_2 rolling standard deviation\")\n",
    "fig.subplots_adjust(right=0.82, bottom=0.05)\n",
    "ax[1].legend_.remove()\n",
    "ax[0].legend(plt.legend(bbox_to_anchor=(1.05, 1), loc=2, borderaxespad=0.))\n"
   ]
  },
  {
   "cell_type": "code",
   "execution_count": 10,
   "metadata": {},
   "outputs": [],
   "source": [
    "mean = df_wo_greedy[\"agent_final_cash_balance\"][-8000:].mean()\n",
    "std = df_wo_greedy[\"agent_final_cash_balance\"][-8000:].std()"
   ]
  },
  {
   "cell_type": "code",
   "execution_count": 11,
   "metadata": {},
   "outputs": [
    {
     "name": "stdout",
     "output_type": "stream",
     "text": [
      "11.89837769472599 0.4287829393059271\n"
     ]
    }
   ],
   "source": [
    "print(mean, std)"
   ]
  },
  {
   "cell_type": "code",
   "execution_count": 12,
   "metadata": {},
   "outputs": [
    {
     "data": {
      "text/plain": [
       "3.1004449928700923"
      ]
     },
     "execution_count": 12,
     "metadata": {},
     "output_type": "execute_result"
    }
   ],
   "source": [
    "df_wo_greedy[\"agent_choice_of_x1\"][-8000:].mean()"
   ]
  },
  {
   "cell_type": "code",
   "execution_count": 13,
   "metadata": {},
   "outputs": [
    {
     "data": {
      "text/plain": [
       "-4.0267488766195125"
      ]
     },
     "execution_count": 13,
     "metadata": {},
     "output_type": "execute_result"
    }
   ],
   "source": [
    "df_wo_greedy[\"cumulative_liquidity_costs\"][-8000:].mean()"
   ]
  },
  {
   "cell_type": "code",
   "execution_count": 2,
   "metadata": {},
   "outputs": [],
   "source": [
    "LOG_NUM = 50000\n",
    "PATH_TO_DF_PERIOD = r\"C:\\Users\\lukas\\OneDrive\\Universität\\Mathematik\\Bachelorarbeit\\log_dir\\log_{}\\SIMULATION_SUMMARY\\simulation_summary_transition_log_{}.pkl\".format(LOG_NUM, LOG_NUM)\n",
    "df_period = pd.read_pickle(PATH_TO_DF_PERIOD)\n"
   ]
  },
  {
   "cell_type": "code",
   "execution_count": 5,
   "metadata": {},
   "outputs": [
    {
     "data": {
      "text/html": [
       "<div>\n",
       "<style scoped>\n",
       "    .dataframe tbody tr th:only-of-type {\n",
       "        vertical-align: middle;\n",
       "    }\n",
       "\n",
       "    .dataframe tbody tr th {\n",
       "        vertical-align: top;\n",
       "    }\n",
       "\n",
       "    .dataframe thead th {\n",
       "        text-align: right;\n",
       "    }\n",
       "</style>\n",
       "<table border=\"1\" class=\"dataframe\">\n",
       "  <thead>\n",
       "    <tr style=\"text-align: right;\">\n",
       "      <th></th>\n",
       "      <th>episode</th>\n",
       "      <th>current_state</th>\n",
       "      <th>next_state</th>\n",
       "    </tr>\n",
       "  </thead>\n",
       "  <tbody>\n",
       "    <tr>\n",
       "      <th>249980</th>\n",
       "      <td>49996</td>\n",
       "      <td>[[1.0], [1.0], [1.0], [0.0]]</td>\n",
       "      <td>[[0.987], [1.0129992], [1.1612208], [1.0]]</td>\n",
       "    </tr>\n",
       "    <tr>\n",
       "      <th>249981</th>\n",
       "      <td>49996</td>\n",
       "      <td>[[0.987], [1.0129992], [1.1612208], [1.0]]</td>\n",
       "      <td>[[0.91117984], [1.1010097], [1.377283], [2.0]]</td>\n",
       "    </tr>\n",
       "    <tr>\n",
       "      <th>249982</th>\n",
       "      <td>49996</td>\n",
       "      <td>[[0.91117984], [1.1010097], [1.377283], [2.0]]</td>\n",
       "      <td>[[0.83881444], [1.2006413], [2.2978818], [3.0]]</td>\n",
       "    </tr>\n",
       "    <tr>\n",
       "      <th>249983</th>\n",
       "      <td>49996</td>\n",
       "      <td>[[0.83881444], [1.2006413], [2.2978818], [3.0]]</td>\n",
       "      <td>[[0.66436076], [1.6011658], [3.7843156], [4.0]]</td>\n",
       "    </tr>\n",
       "    <tr>\n",
       "      <th>249984</th>\n",
       "      <td>49996</td>\n",
       "      <td>[[0.66436076], [1.6011658], [3.7843156], [4.0]]</td>\n",
       "      <td>[[0.0], [4.1069837], [4.0670824], [5.0]]</td>\n",
       "    </tr>\n",
       "    <tr>\n",
       "      <th>249985</th>\n",
       "      <td>49997</td>\n",
       "      <td>[[1.0], [1.0], [1.0], [0.0]]</td>\n",
       "      <td>[[0.987], [1.0129992], [1.373555], [1.0]]</td>\n",
       "    </tr>\n",
       "    <tr>\n",
       "      <th>249986</th>\n",
       "      <td>49997</td>\n",
       "      <td>[[0.987], [1.0129992], [1.373555], [1.0]]</td>\n",
       "      <td>[[0.84147984], [1.2127337], [2.1682608], [2.0]]</td>\n",
       "    </tr>\n",
       "    <tr>\n",
       "      <th>249987</th>\n",
       "      <td>49997</td>\n",
       "      <td>[[0.84147984], [1.2127337], [2.1682608], [2.0]]</td>\n",
       "      <td>[[0.6821252], [1.557981], [2.0511808], [3.0]]</td>\n",
       "    </tr>\n",
       "    <tr>\n",
       "      <th>249988</th>\n",
       "      <td>49997</td>\n",
       "      <td>[[0.6821252], [1.557981], [2.0511808], [3.0]]</td>\n",
       "      <td>[[0.72782916], [1.4642125], [3.6560361], [4.0]]</td>\n",
       "    </tr>\n",
       "    <tr>\n",
       "      <th>249989</th>\n",
       "      <td>49997</td>\n",
       "      <td>[[0.72782916], [1.4642125], [3.6560361], [4.0]]</td>\n",
       "      <td>[[0.0], [4.115522], [6.348784], [5.0]]</td>\n",
       "    </tr>\n",
       "    <tr>\n",
       "      <th>249990</th>\n",
       "      <td>49998</td>\n",
       "      <td>[[1.0], [1.0], [1.0], [0.0]]</td>\n",
       "      <td>[[0.987], [1.0129992], [1.4433357], [1.0]]</td>\n",
       "    </tr>\n",
       "    <tr>\n",
       "      <th>249991</th>\n",
       "      <td>49998</td>\n",
       "      <td>[[0.987], [1.0129992], [1.4433357], [1.0]]</td>\n",
       "      <td>[[0.8230814], [1.249395], [1.6933709], [2.0]]</td>\n",
       "    </tr>\n",
       "    <tr>\n",
       "      <th>249992</th>\n",
       "      <td>49998</td>\n",
       "      <td>[[0.8230814], [1.249395], [1.6933709], [2.0]]</td>\n",
       "      <td>[[0.7672199], [1.3439628], [2.296981], [3.0]]</td>\n",
       "    </tr>\n",
       "    <tr>\n",
       "      <th>249993</th>\n",
       "      <td>49998</td>\n",
       "      <td>[[0.7672199], [1.3439628], [2.296981], [3.0]]</td>\n",
       "      <td>[[0.42968142], [2.1179752], [3.6241243], [4.0]]</td>\n",
       "    </tr>\n",
       "    <tr>\n",
       "      <th>249994</th>\n",
       "      <td>49998</td>\n",
       "      <td>[[0.42968142], [2.1179752], [3.6241243], [4.0]]</td>\n",
       "      <td>[[0.0], [3.6718533], [4.337484], [5.0]]</td>\n",
       "    </tr>\n",
       "    <tr>\n",
       "      <th>249995</th>\n",
       "      <td>49999</td>\n",
       "      <td>[[1.0], [1.0], [1.0], [0.0]]</td>\n",
       "      <td>[[0.987], [1.0129992], [1.0470062], [1.0]]</td>\n",
       "    </tr>\n",
       "    <tr>\n",
       "      <th>249996</th>\n",
       "      <td>49999</td>\n",
       "      <td>[[0.987], [1.0129992], [1.0470062], [1.0]]</td>\n",
       "      <td>[[0.96020806], [1.0410467], [0.9172698], [2.0]]</td>\n",
       "    </tr>\n",
       "    <tr>\n",
       "      <th>249997</th>\n",
       "      <td>49999</td>\n",
       "      <td>[[0.96020806], [1.0410467], [0.9172698], [2.0]]</td>\n",
       "      <td>[[0.81994593], [1.1696148], [1.1728803], [3.0]]</td>\n",
       "    </tr>\n",
       "    <tr>\n",
       "      <th>249998</th>\n",
       "      <td>49999</td>\n",
       "      <td>[[0.81994593], [1.1696148], [1.1728803], [3.0]]</td>\n",
       "      <td>[[0.9047468], [1.0701114], [1.0182663], [4.0]]</td>\n",
       "    </tr>\n",
       "    <tr>\n",
       "      <th>249999</th>\n",
       "      <td>49999</td>\n",
       "      <td>[[0.9047468], [1.0701114], [1.0182663], [4.0]]</td>\n",
       "      <td>[[0.0], [1.9872295], [1.7450072], [5.0]]</td>\n",
       "    </tr>\n",
       "  </tbody>\n",
       "</table>\n",
       "</div>"
      ],
      "text/plain": [
       "       episode                                    current_state  \\\n",
       "249980   49996                     [[1.0], [1.0], [1.0], [0.0]]   \n",
       "249981   49996       [[0.987], [1.0129992], [1.1612208], [1.0]]   \n",
       "249982   49996   [[0.91117984], [1.1010097], [1.377283], [2.0]]   \n",
       "249983   49996  [[0.83881444], [1.2006413], [2.2978818], [3.0]]   \n",
       "249984   49996  [[0.66436076], [1.6011658], [3.7843156], [4.0]]   \n",
       "249985   49997                     [[1.0], [1.0], [1.0], [0.0]]   \n",
       "249986   49997        [[0.987], [1.0129992], [1.373555], [1.0]]   \n",
       "249987   49997  [[0.84147984], [1.2127337], [2.1682608], [2.0]]   \n",
       "249988   49997    [[0.6821252], [1.557981], [2.0511808], [3.0]]   \n",
       "249989   49997  [[0.72782916], [1.4642125], [3.6560361], [4.0]]   \n",
       "249990   49998                     [[1.0], [1.0], [1.0], [0.0]]   \n",
       "249991   49998       [[0.987], [1.0129992], [1.4433357], [1.0]]   \n",
       "249992   49998    [[0.8230814], [1.249395], [1.6933709], [2.0]]   \n",
       "249993   49998    [[0.7672199], [1.3439628], [2.296981], [3.0]]   \n",
       "249994   49998  [[0.42968142], [2.1179752], [3.6241243], [4.0]]   \n",
       "249995   49999                     [[1.0], [1.0], [1.0], [0.0]]   \n",
       "249996   49999       [[0.987], [1.0129992], [1.0470062], [1.0]]   \n",
       "249997   49999  [[0.96020806], [1.0410467], [0.9172698], [2.0]]   \n",
       "249998   49999  [[0.81994593], [1.1696148], [1.1728803], [3.0]]   \n",
       "249999   49999   [[0.9047468], [1.0701114], [1.0182663], [4.0]]   \n",
       "\n",
       "                                             next_state  \n",
       "249980       [[0.987], [1.0129992], [1.1612208], [1.0]]  \n",
       "249981   [[0.91117984], [1.1010097], [1.377283], [2.0]]  \n",
       "249982  [[0.83881444], [1.2006413], [2.2978818], [3.0]]  \n",
       "249983  [[0.66436076], [1.6011658], [3.7843156], [4.0]]  \n",
       "249984         [[0.0], [4.1069837], [4.0670824], [5.0]]  \n",
       "249985        [[0.987], [1.0129992], [1.373555], [1.0]]  \n",
       "249986  [[0.84147984], [1.2127337], [2.1682608], [2.0]]  \n",
       "249987    [[0.6821252], [1.557981], [2.0511808], [3.0]]  \n",
       "249988  [[0.72782916], [1.4642125], [3.6560361], [4.0]]  \n",
       "249989           [[0.0], [4.115522], [6.348784], [5.0]]  \n",
       "249990       [[0.987], [1.0129992], [1.4433357], [1.0]]  \n",
       "249991    [[0.8230814], [1.249395], [1.6933709], [2.0]]  \n",
       "249992    [[0.7672199], [1.3439628], [2.296981], [3.0]]  \n",
       "249993  [[0.42968142], [2.1179752], [3.6241243], [4.0]]  \n",
       "249994          [[0.0], [3.6718533], [4.337484], [5.0]]  \n",
       "249995       [[0.987], [1.0129992], [1.0470062], [1.0]]  \n",
       "249996  [[0.96020806], [1.0410467], [0.9172698], [2.0]]  \n",
       "249997  [[0.81994593], [1.1696148], [1.1728803], [3.0]]  \n",
       "249998   [[0.9047468], [1.0701114], [1.0182663], [4.0]]  \n",
       "249999         [[0.0], [1.9872295], [1.7450072], [5.0]]  "
      ]
     },
     "execution_count": 5,
     "metadata": {},
     "output_type": "execute_result"
    }
   ],
   "source": [
    "df_period.tail(20)"
   ]
  },
  {
   "cell_type": "code",
   "execution_count": 14,
   "metadata": {},
   "outputs": [
    {
     "data": {
      "text/plain": [
       "array([[1.434     ],\n",
       "       [0.56505686],\n",
       "       [1.1274428 ],\n",
       "       [1.        ]], dtype=float32)"
      ]
     },
     "execution_count": 14,
     "metadata": {},
     "output_type": "execute_result"
    }
   ],
   "source": [
    "df_period.next_state[0]"
   ]
  },
  {
   "cell_type": "code",
   "execution_count": 13,
   "metadata": {},
   "outputs": [
    {
     "data": {
      "text/plain": [
       "[]"
      ]
     },
     "execution_count": 13,
     "metadata": {},
     "output_type": "execute_result"
    }
   ],
   "source": [
    "df_period.next"
   ]
  },
  {
   "cell_type": "code",
   "execution_count": 35,
   "metadata": {},
   "outputs": [
    {
     "data": {
      "text/plain": [
       "[7.203621,\n",
       " 3.6996355,\n",
       " 8.384799,\n",
       " 4.6671214,\n",
       " 7.630034,\n",
       " 8.026458,\n",
       " 7.2547135,\n",
       " 3.7093246,\n",
       " 5.236111,\n",
       " 2.691493]"
      ]
     },
     "execution_count": 35,
     "metadata": {},
     "output_type": "execute_result"
    }
   ],
   "source": [
    "df_final = pd.DataFrame({\"final_cash_balance\": final_cash_balance})"
   ]
  },
  {
   "cell_type": "code",
   "execution_count": 117,
   "metadata": {},
   "outputs": [
    {
     "name": "stdout",
     "output_type": "stream",
     "text": [
      "30000\n"
     ]
    },
    {
     "data": {
      "text/plain": [
       "<matplotlib.axes._subplots.AxesSubplot at 0x155c6315470>"
      ]
     },
     "execution_count": 117,
     "metadata": {},
     "output_type": "execute_result"
    }
   ],
   "source": [
    "final_cash_balance = [balance[1,0] for balance in df_period.next_state if balance[3,0] == 5]\n",
    "final_cash_balance = final_cash_balance[0:30000]\n",
    "print(len(final_cash_balance))\n",
    "df_final = pd.DataFrame({\"final_cash_balance\": final_cash_balance})\n",
    "df_final_rolling = df_final.rolling(window=100).mean()\n",
    "df_final_rolling.plot(y=\"final_cash_balance\",ylim=(0,4))"
   ]
  },
  {
   "cell_type": "code",
   "execution_count": 73,
   "metadata": {},
   "outputs": [],
   "source": []
  },
  {
   "cell_type": "code",
   "execution_count": 74,
   "metadata": {},
   "outputs": [],
   "source": []
  },
  {
   "cell_type": "code",
   "execution_count": 75,
   "metadata": {},
   "outputs": [
    {
     "data": {
      "text/plain": [
       "<matplotlib.axes._subplots.AxesSubplot at 0x155c4f397b8>"
      ]
     },
     "execution_count": 75,
     "metadata": {},
     "output_type": "execute_result"
    }
   ],
   "source": []
  },
  {
   "cell_type": "code",
   "execution_count": 80,
   "metadata": {},
   "outputs": [
    {
     "data": {
      "text/plain": [
       "<matplotlib.axes._subplots.AxesSubplot at 0x155c5201cc0>"
      ]
     },
     "execution_count": 80,
     "metadata": {},
     "output_type": "execute_result"
    }
   ],
   "source": [
    "price = [balance[2,0] for balance in df_period[3750:].next_state if balance[3,0] == 4]\n",
    "df_price = pd.DataFrame({\"price\": price})\n",
    "df_price_rolling = df_price.rolling(window=2000).mean()\n",
    "df_price_rolling.plot(y=\"price\")"
   ]
  },
  {
   "cell_type": "code",
   "execution_count": 122,
   "metadata": {},
   "outputs": [
    {
     "data": {
      "text/plain": [
       "<matplotlib.axes._subplots.AxesSubplot at 0x155ca92a748>"
      ]
     },
     "execution_count": 122,
     "metadata": {},
     "output_type": "execute_result"
    }
   ],
   "source": [
    "price = [balance[0,0] for balance in df_period[0:10000].next_state if balance[3,0] == 1]\n",
    "df_price = pd.DataFrame({\"price\": price})\n",
    "df_price_rolling = df_price.rolling(window=100).mean()\n",
    "df_price_rolling.plot(y=\"price\", ylim=(0,1.5))"
   ]
  },
  {
   "cell_type": "code",
   "execution_count": 146,
   "metadata": {},
   "outputs": [
    {
     "name": "stdout",
     "output_type": "stream",
     "text": [
      "Mean in 0: price   NaN\n",
      "dtype: float64\n",
      "Mean in 1: price    1.043011\n",
      "dtype: float64\n",
      "Mean in 2: price    1.180493\n",
      "dtype: float64\n",
      "Mean in 3: price    1.365535\n",
      "dtype: float64\n",
      "Mean in 4: price    1.522037\n",
      "dtype: float64\n",
      "Mean in 5: price    3.423629\n",
      "dtype: float64\n"
     ]
    }
   ],
   "source": [
    "for period in range(0,6):\n",
    "    price = [balance[1,0] for balance in df_period[40000:].next_state if balance[3,0] == period]\n",
    "    df_price = pd.DataFrame({\"price\": price})\n",
    "    print(f\"Mean in {period}: {df_price.mean()}\")\n"
   ]
  },
  {
   "cell_type": "code",
   "execution_count": 145,
   "metadata": {},
   "outputs": [
    {
     "data": {
      "text/plain": [
       "1.3134565220657508"
      ]
     },
     "execution_count": 145,
     "metadata": {},
     "output_type": "execute_result"
    }
   ],
   "source": [
    "np.std([np.random.uniform(0.8,1.8)*np.random.uniform(0.8,1.8)*np.random.uniform(0.8,1.8)*np.random.uniform(0.8,1.8) for x in range(500000)])"
   ]
  },
  {
   "cell_type": "code",
   "execution_count": null,
   "metadata": {},
   "outputs": [],
   "source": []
  }
 ],
 "metadata": {
  "file_extension": ".py",
  "kernelspec": {
   "display_name": "Python 3",
   "language": "python",
   "name": "python3"
  },
  "language_info": {
   "codemirror_mode": {
    "name": "ipython",
    "version": 3
   },
   "file_extension": ".py",
   "mimetype": "text/x-python",
   "name": "python",
   "nbconvert_exporter": "python",
   "pygments_lexer": "ipython3",
   "version": "3.7.3"
  },
  "mimetype": "text/x-python",
  "name": "python",
  "npconvert_exporter": "python",
  "pygments_lexer": "ipython3",
  "version": 3
 },
 "nbformat": 4,
 "nbformat_minor": 2
}
