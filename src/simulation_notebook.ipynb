{
 "cells": [
  {
   "cell_type": "code",
   "execution_count": 4,
   "metadata": {},
   "outputs": [],
   "source": [
    "import tensorflow as tf\n",
    "import numpy as np\n",
    "\n",
    "from core.simulation.simulation import simulation\n",
    "from core.simulation.game import game\n",
    "from core.simulation.reward import RewardId\n",
    "from core.simulation.random_generator import random_generator_uniform\n",
    "from core.layers.model_ICNN import model_ICNN\n",
    "\n",
    "from core.simulation.simulation import H\n",
    "\n",
    "\n",
    "\n",
    "\n"
   ]
  },
  {
   "cell_type": "code",
   "execution_count": 5,
   "metadata": {},
   "outputs": [],
   "source": [
    "random_generator_uniform = random_generator_uniform(0.9, 1.1)\n",
    "negQ = model_ICNN([5, 2], [5,2,1], activation_func=\"relu\", weight_initializer=tf.random_normal_initializer(mean=0., stddev=0.5), name=\"negQ\")\n",
    "game = game(x_0=10., y_0=100.,S_0=10., T=2, alpha=0.01, random_generator=random_generator_uniform,reward_func=RewardId)\n",
    "simulation = simulation(ICNN_model=negQ, game=game, num_episodes=1000, ITERATIONS=3, size_minibatches=3, capacity_replay_memory=100, optimization_iterations=35)\n",
    "\n",
    "\n"
   ]
  },
  {
   "cell_type": "code",
   "execution_count": null,
   "metadata": {},
   "outputs": [],
   "source": [
    "simulation.run_simulation()"
   ]
  },
  {
   "cell_type": "code",
   "execution_count": null,
   "metadata": {},
   "outputs": [],
   "source": []
  }
 ],
 "metadata": {
  "kernelspec": {
   "display_name": "Python 3",
   "language": "python",
   "name": "python3"
  },
  "language_info": {
   "codemirror_mode": {
    "name": "ipython",
    "version": 3
   },
   "file_extension": ".py",
   "mimetype": "text/x-python",
   "name": "python",
   "nbconvert_exporter": "python",
   "pygments_lexer": "ipython3",
   "version": "3.7.3"
  }
 },
 "nbformat": 4,
 "nbformat_minor": 2
}
